{
  "nbformat": 4,
  "nbformat_minor": 0,
  "metadata": {
    "colab": {
      "name": "DummyDataUsingFaker.ipynb",
      "provenance": [],
      "collapsed_sections": [],
      "authorship_tag": "ABX9TyNUk+9R0cT2eGeYbi87iuFo",
      "include_colab_link": true
    },
    "kernelspec": {
      "name": "python3",
      "display_name": "Python 3"
    },
    "language_info": {
      "name": "python"
    }
  },
  "cells": [
    {
      "cell_type": "markdown",
      "metadata": {
        "id": "view-in-github",
        "colab_type": "text"
      },
      "source": [
        "<a href=\"https://colab.research.google.com/github/maeve70/dummy.data.Faker/blob/main/DummyDataUsingFaker.ipynb\" target=\"_parent\"><img src=\"https://colab.research.google.com/assets/colab-badge.svg\" alt=\"Open In Colab\"/></a>"
      ]
    },
    {
      "cell_type": "markdown",
      "source": [
        "This is the coolest Python module!!\n",
        "See inspiration here! :\n",
        "\n",
        "https://towardsdatascience.com/faker-an-amazing-and-insanely-useful-python-library-b313a60bdabf\n",
        "\n",
        "Faker documentation: \n",
        "\n",
        "https://faker.readthedocs.io/en/master/index.html"
      ],
      "metadata": {
        "id": "vUmynWckDCtf"
      }
    },
    {
      "cell_type": "code",
      "source": [
        "!pip install faker"
      ],
      "metadata": {
        "id": "7xwishHR_tsV"
      },
      "execution_count": null,
      "outputs": []
    },
    {
      "cell_type": "code",
      "source": [
        "#imports to create a fake df\n",
        "#use the random library to generate fake ages. there is no age variable in Faker\n",
        "from faker import Faker\n",
        "fake = Faker()\n",
        "import random\n",
        "import pandas as pd\n",
        "Faker.seed(0)\n",
        "random.seed(0)\n",
        "fake = Faker(\"en_US\") #can pass in different providers as a list"
      ],
      "metadata": {
        "id": "C2oAryHu-5Cg"
      },
      "execution_count": 53,
      "outputs": []
    },
    {
      "cell_type": "code",
      "source": [
        "fake.name()"
      ],
      "metadata": {
        "colab": {
          "base_uri": "https://localhost:8080/",
          "height": 35
        },
        "id": "YqV6Sbjw-4_R",
        "outputId": "f5132d4f-0e0c-4625-8ab9-7143a09401de"
      },
      "execution_count": 54,
      "outputs": [
        {
          "output_type": "execute_result",
          "data": {
            "text/plain": [
              "'Norma Fisher'"
            ],
            "application/vnd.google.colaboratory.intrinsic+json": {
              "type": "string"
            }
          },
          "metadata": {},
          "execution_count": 54
        }
      ]
    },
    {
      "cell_type": "code",
      "source": [
        "for _ in range(10):\n",
        "    print(fake.name())"
      ],
      "metadata": {
        "colab": {
          "base_uri": "https://localhost:8080/"
        },
        "id": "t2tMDMQ6C5lz",
        "outputId": "1e54fe78-b911-40ac-9aa5-30e014b7877a"
      },
      "execution_count": 43,
      "outputs": [
        {
          "output_type": "stream",
          "name": "stdout",
          "text": [
            "Jorge Sullivan\n",
            "Elizabeth Woods\n",
            "Susan Wagner\n",
            "Peter Montgomery\n",
            "Theodore Mcgrath\n",
            "Stephanie Collins\n",
            "Stephanie Sutton\n",
            "Brian Hamilton\n",
            "Susan Levy\n",
            "Sean Green\n"
          ]
        }
      ]
    },
    {
      "cell_type": "code",
      "source": [
        "fake.job()"
      ],
      "metadata": {
        "colab": {
          "base_uri": "https://localhost:8080/",
          "height": 35
        },
        "id": "u6gx3wsI-48E",
        "outputId": "6f54d624-5d85-4898-bf36-bd0eda69a4b2"
      },
      "execution_count": null,
      "outputs": [
        {
          "output_type": "execute_result",
          "data": {
            "text/plain": [
              "'Sports therapist'"
            ],
            "application/vnd.google.colaboratory.intrinsic+json": {
              "type": "string"
            }
          },
          "metadata": {},
          "execution_count": 8
        }
      ]
    },
    {
      "cell_type": "code",
      "source": [
        "for _ in range(10):\n",
        "    print(fake.job())"
      ],
      "metadata": {
        "colab": {
          "base_uri": "https://localhost:8080/"
        },
        "id": "PJFvJyZztZHr",
        "outputId": "fa6622d3-9c05-4cb3-99d2-dca2581c73e1"
      },
      "execution_count": null,
      "outputs": [
        {
          "output_type": "stream",
          "name": "stdout",
          "text": [
            "Administrator, education\n",
            "Chief Financial Officer\n",
            "Oceanographer\n",
            "Accommodation manager\n",
            "Veterinary surgeon\n",
            "Research officer, political party\n",
            "Lecturer, further education\n",
            "Financial planner\n",
            "Journalist, magazine\n",
            "Biomedical scientist\n"
          ]
        }
      ]
    },
    {
      "cell_type": "code",
      "source": [
        "fake.address()"
      ],
      "metadata": {
        "colab": {
          "base_uri": "https://localhost:8080/",
          "height": 35
        },
        "id": "yGyeukic-445",
        "outputId": "f0f08a56-df55-46ce-e208-46a8f64f5236"
      },
      "execution_count": null,
      "outputs": [
        {
          "output_type": "execute_result",
          "data": {
            "text/plain": [
              "'398 Wallace Ranch Suite 593\\nIvanburgh, RI 86570'"
            ],
            "application/vnd.google.colaboratory.intrinsic+json": {
              "type": "string"
            }
          },
          "metadata": {},
          "execution_count": 17
        }
      ]
    },
    {
      "cell_type": "code",
      "source": [
        "fake.text()"
      ],
      "metadata": {
        "colab": {
          "base_uri": "https://localhost:8080/",
          "height": 35
        },
        "id": "H3KUJJ3g_cGf",
        "outputId": "6b48a1ad-4897-46ed-ad02-372b10b37d5e"
      },
      "execution_count": null,
      "outputs": [
        {
          "output_type": "execute_result",
          "data": {
            "text/plain": [
              "'Aperiam ullam totam at saepe. A laudantium sint doloribus eveniet sit deleniti necessitatibus. Rem consequuntur molestiae at voluptatibus.'"
            ],
            "application/vnd.google.colaboratory.intrinsic+json": {
              "type": "string"
            }
          },
          "metadata": {},
          "execution_count": 17
        }
      ]
    },
    {
      "cell_type": "code",
      "source": [
        "fake1 = Faker(\"fr_FR\")"
      ],
      "metadata": {
        "id": "xeXMm4X__e6-"
      },
      "execution_count": null,
      "outputs": []
    },
    {
      "cell_type": "code",
      "source": [
        "fake1.name()"
      ],
      "metadata": {
        "colab": {
          "base_uri": "https://localhost:8080/",
          "height": 35
        },
        "id": "ORjpFjkQAHNy",
        "outputId": "b2534e82-88fd-47a5-9269-5cdf08c9b0b5"
      },
      "execution_count": null,
      "outputs": [
        {
          "output_type": "execute_result",
          "data": {
            "text/plain": [
              "'Denis Morel'"
            ],
            "application/vnd.google.colaboratory.intrinsic+json": {
              "type": "string"
            }
          },
          "metadata": {},
          "execution_count": 21
        }
      ]
    },
    {
      "cell_type": "code",
      "source": [
        "fake1.address()"
      ],
      "metadata": {
        "colab": {
          "base_uri": "https://localhost:8080/",
          "height": 35
        },
        "id": "i4PU9luUAHI3",
        "outputId": "71cf1c43-95fa-4c24-cf18-851466e27581"
      },
      "execution_count": null,
      "outputs": [
        {
          "output_type": "execute_result",
          "data": {
            "text/plain": [
              "'568, rue de Fabre\\n94775 Sainte JulietteBourg'"
            ],
            "application/vnd.google.colaboratory.intrinsic+json": {
              "type": "string"
            }
          },
          "metadata": {},
          "execution_count": 22
        }
      ]
    },
    {
      "cell_type": "code",
      "source": [
        "fake1.street_name()"
      ],
      "metadata": {
        "colab": {
          "base_uri": "https://localhost:8080/",
          "height": 35
        },
        "id": "WrjRFdi6Drg2",
        "outputId": "feb040ce-9a7b-47ce-e072-9e0868b484ea"
      },
      "execution_count": null,
      "outputs": [
        {
          "output_type": "execute_result",
          "data": {
            "text/plain": [
              "'boulevard Louise Daniel'"
            ],
            "application/vnd.google.colaboratory.intrinsic+json": {
              "type": "string"
            }
          },
          "metadata": {},
          "execution_count": 23
        }
      ]
    },
    {
      "cell_type": "code",
      "source": [
        "fake.locale()"
      ],
      "metadata": {
        "colab": {
          "base_uri": "https://localhost:8080/",
          "height": 35
        },
        "id": "qonoDgmfAEEh",
        "outputId": "1afec22d-e724-413c-a556-eef2a2676cd8"
      },
      "execution_count": null,
      "outputs": [
        {
          "output_type": "execute_result",
          "data": {
            "text/plain": [
              "'fr_CH'"
            ],
            "application/vnd.google.colaboratory.intrinsic+json": {
              "type": "string"
            }
          },
          "metadata": {},
          "execution_count": 24
        }
      ]
    },
    {
      "cell_type": "code",
      "source": [
        "fake.date()"
      ],
      "metadata": {
        "colab": {
          "base_uri": "https://localhost:8080/",
          "height": 35
        },
        "id": "-iJbrMGUAdgo",
        "outputId": "50615b9e-8084-42e0-ac48-ad5488dace81"
      },
      "execution_count": null,
      "outputs": [
        {
          "output_type": "execute_result",
          "data": {
            "text/plain": [
              "'2006-12-14'"
            ],
            "application/vnd.google.colaboratory.intrinsic+json": {
              "type": "string"
            }
          },
          "metadata": {},
          "execution_count": 13
        }
      ]
    },
    {
      "cell_type": "code",
      "source": [
        "for i in range(10):\n",
        "    print(fake.date())"
      ],
      "metadata": {
        "colab": {
          "base_uri": "https://localhost:8080/"
        },
        "id": "Y4imOSJRAfYA",
        "outputId": "cb3a755a-be10-4c3b-e198-0d182db42e56"
      },
      "execution_count": 44,
      "outputs": [
        {
          "output_type": "stream",
          "name": "stdout",
          "text": [
            "2007-05-04\n",
            "1970-12-16\n",
            "1976-05-07\n",
            "2018-12-23\n",
            "1997-02-20\n",
            "2018-05-02\n",
            "2015-06-21\n",
            "2012-07-20\n",
            "1970-01-29\n",
            "2011-08-22\n"
          ]
        }
      ]
    },
    {
      "cell_type": "markdown",
      "source": [
        "You can select a region too!\n",
        "\n",
        "https://faker.readthedocs.io/en/master/locales.html\n"
      ],
      "metadata": {
        "id": "xgLzhhBEDRQX"
      }
    },
    {
      "cell_type": "code",
      "source": [
        "fake2 = Faker(\"de_DE\")"
      ],
      "metadata": {
        "id": "OotbcbLVAHGA"
      },
      "execution_count": null,
      "outputs": []
    },
    {
      "cell_type": "code",
      "source": [
        "fake2.name()"
      ],
      "metadata": {
        "colab": {
          "base_uri": "https://localhost:8080/",
          "height": 35
        },
        "id": "3pLUeKuCAHDO",
        "outputId": "4448e8be-bba9-4d5b-f844-d28cad30cc37"
      },
      "execution_count": null,
      "outputs": [
        {
          "output_type": "execute_result",
          "data": {
            "text/plain": [
              "'Pascal Hiller'"
            ],
            "application/vnd.google.colaboratory.intrinsic+json": {
              "type": "string"
            }
          },
          "metadata": {},
          "execution_count": 26
        }
      ]
    },
    {
      "cell_type": "code",
      "source": [
        "fake2.address()"
      ],
      "metadata": {
        "colab": {
          "base_uri": "https://localhost:8080/",
          "height": 35
        },
        "id": "v7g3uKs8AHAe",
        "outputId": "c79345d7-49ba-4485-97c2-ea81da1dc7ae"
      },
      "execution_count": null,
      "outputs": [
        {
          "output_type": "execute_result",
          "data": {
            "text/plain": [
              "'Geißlerring 0/1\\n30989 Auerbach'"
            ],
            "application/vnd.google.colaboratory.intrinsic+json": {
              "type": "string"
            }
          },
          "metadata": {},
          "execution_count": 27
        }
      ]
    },
    {
      "cell_type": "code",
      "source": [
        "fake2.job()"
      ],
      "metadata": {
        "colab": {
          "base_uri": "https://localhost:8080/",
          "height": 35
        },
        "id": "j5gnKUaHAG9f",
        "outputId": "1ad3b4f5-2b75-42d6-f7ad-ca140fabfa3b"
      },
      "execution_count": null,
      "outputs": [
        {
          "output_type": "execute_result",
          "data": {
            "text/plain": [
              "'Beamter'"
            ],
            "application/vnd.google.colaboratory.intrinsic+json": {
              "type": "string"
            }
          },
          "metadata": {},
          "execution_count": 28
        }
      ]
    },
    {
      "cell_type": "code",
      "source": [
        "fake2.text()"
      ],
      "metadata": {
        "colab": {
          "base_uri": "https://localhost:8080/",
          "height": 52
        },
        "id": "rb-YBxQ5AfhL",
        "outputId": "3cf47e8b-2503-4ed0-f1f4-73ffe32d4e32"
      },
      "execution_count": null,
      "outputs": [
        {
          "output_type": "execute_result",
          "data": {
            "text/plain": [
              "'Ohne unter fiel seit damit fahren Stelle ging. Bringen der schnell Auge. Onkel will nicht bekommen darauf einigen turnen.\\nBlume Uhr dafür nichts Eltern Zeit. Lange sehr Baum schenken.'"
            ],
            "application/vnd.google.colaboratory.intrinsic+json": {
              "type": "string"
            }
          },
          "metadata": {},
          "execution_count": 24
        }
      ]
    },
    {
      "cell_type": "code",
      "source": [
        "fake.date_time()"
      ],
      "metadata": {
        "colab": {
          "base_uri": "https://localhost:8080/"
        },
        "id": "F-vzuf2UAfe2",
        "outputId": "4b63a26e-e75e-484a-ceb4-e2ebe7c7cabc"
      },
      "execution_count": null,
      "outputs": [
        {
          "output_type": "execute_result",
          "data": {
            "text/plain": [
              "datetime.datetime(2013, 3, 19, 0, 12, 8)"
            ]
          },
          "metadata": {},
          "execution_count": 29
        }
      ]
    },
    {
      "cell_type": "code",
      "source": [
        "#faker.providers.internet\n",
        "Faker.seed(0)\n",
        "for _ in range(5):\n",
        "    fake.ascii_company_email()\n",
        "print(fake.ascii_company_email())"
      ],
      "metadata": {
        "colab": {
          "base_uri": "https://localhost:8080/"
        },
        "id": "y26pJLyDzYGq",
        "outputId": "01fcc05a-37a6-4497-b648-04c60ca7ece7"
      },
      "execution_count": null,
      "outputs": [
        {
          "output_type": "stream",
          "name": "stdout",
          "text": [
            "cortezraymond@garrett.com\n"
          ]
        }
      ]
    },
    {
      "cell_type": "code",
      "source": [
        "#name, city, country, job, age = [[] for k in range (0, 5)]"
      ],
      "metadata": {
        "id": "jhH1QAl7AfcH"
      },
      "execution_count": null,
      "outputs": []
    },
    {
      "cell_type": "code",
      "source": [
        "Faker.seed(0)\n",
        "for _ in range(5):\n",
        "    fake.email()\n",
        "    print(fake.email())"
      ],
      "metadata": {
        "colab": {
          "base_uri": "https://localhost:8080/"
        },
        "id": "94_b-BfW0D7A",
        "outputId": "f9389be5-74dc-4053-fa7b-bd8038234758"
      },
      "execution_count": 46,
      "outputs": [
        {
          "output_type": "stream",
          "name": "stdout",
          "text": [
            "tammy76@example.com\n",
            "juancampos@example.net\n",
            "corey15@example.com\n",
            "tammywoods@example.net\n",
            "ypage@example.net\n"
          ]
        }
      ]
    },
    {
      "cell_type": "code",
      "source": [
        "fake.name()"
      ],
      "metadata": {
        "colab": {
          "base_uri": "https://localhost:8080/",
          "height": 35
        },
        "id": "pfO0y8cKB6-1",
        "outputId": "29ee3917-f9e9-485b-dfbe-31ac9b1a4312"
      },
      "execution_count": 48,
      "outputs": [
        {
          "output_type": "execute_result",
          "data": {
            "text/plain": [
              "'Nicholas Padilla'"
            ],
            "application/vnd.google.colaboratory.intrinsic+json": {
              "type": "string"
            }
          },
          "metadata": {},
          "execution_count": 48
        }
      ]
    },
    {
      "cell_type": "code",
      "source": [
        "#create fake df!\n",
        "name, city, country, job, age, date = [[] for k in range(0,6)] \n",
        "for row in range(0,100):\n",
        "    name.append(fake.name())\n",
        "    city.append(fake.city())\n",
        "    country.append(fake.country())\n",
        "    job.append(fake.job())\n",
        "    age.append(random.randint(20,100))\n",
        "    date.append(fake.date())\n",
        "\n",
        "d = {\"Name\":name, \"Age\":age, \"City\":city, \"Country\":country, \"Job\":job, \"Date\": date}\n",
        "df = pd.DataFrame(d)\n",
        "df.head()\n",
        "\n"
      ],
      "metadata": {
        "colab": {
          "base_uri": "https://localhost:8080/",
          "height": 206
        },
        "id": "pCxzs1BRAfZc",
        "outputId": "2c19cde3-ff1b-4ea0-e184-843541070443"
      },
      "execution_count": 63,
      "outputs": [
        {
          "output_type": "execute_result",
          "data": {
            "text/plain": [
              "                          Name  Age        City     Country             Job  \\\n",
              "0      Dipl.-Ing. Björn Scheel   65   Osterburg      Tschad  Binnenschiffer   \n",
              "1         Bruni Löffler B.Eng.   34   Wunsiedel       Sudan        Designer   \n",
              "2               Franjo Margraf   28       Kleve  Mazedonien    Augenoptiker   \n",
              "3  Nadia van der Dussen-Krause   23  Vilsbiburg     Serbien       Chemikant   \n",
              "4            Gerhard Schönland   87   Osterburg   Sri Lanka         Pfleger   \n",
              "\n",
              "         Date  \n",
              "0  2018-09-14  \n",
              "1  2020-04-17  \n",
              "2  1993-06-07  \n",
              "3  2014-08-24  \n",
              "4  1984-04-19  "
            ],
            "text/html": [
              "\n",
              "  <div id=\"df-d54ab752-2404-4f76-b8b2-d5a60e48d30b\">\n",
              "    <div class=\"colab-df-container\">\n",
              "      <div>\n",
              "<style scoped>\n",
              "    .dataframe tbody tr th:only-of-type {\n",
              "        vertical-align: middle;\n",
              "    }\n",
              "\n",
              "    .dataframe tbody tr th {\n",
              "        vertical-align: top;\n",
              "    }\n",
              "\n",
              "    .dataframe thead th {\n",
              "        text-align: right;\n",
              "    }\n",
              "</style>\n",
              "<table border=\"1\" class=\"dataframe\">\n",
              "  <thead>\n",
              "    <tr style=\"text-align: right;\">\n",
              "      <th></th>\n",
              "      <th>Name</th>\n",
              "      <th>Age</th>\n",
              "      <th>City</th>\n",
              "      <th>Country</th>\n",
              "      <th>Job</th>\n",
              "      <th>Date</th>\n",
              "    </tr>\n",
              "  </thead>\n",
              "  <tbody>\n",
              "    <tr>\n",
              "      <th>0</th>\n",
              "      <td>Dipl.-Ing. Björn Scheel</td>\n",
              "      <td>65</td>\n",
              "      <td>Osterburg</td>\n",
              "      <td>Tschad</td>\n",
              "      <td>Binnenschiffer</td>\n",
              "      <td>2018-09-14</td>\n",
              "    </tr>\n",
              "    <tr>\n",
              "      <th>1</th>\n",
              "      <td>Bruni Löffler B.Eng.</td>\n",
              "      <td>34</td>\n",
              "      <td>Wunsiedel</td>\n",
              "      <td>Sudan</td>\n",
              "      <td>Designer</td>\n",
              "      <td>2020-04-17</td>\n",
              "    </tr>\n",
              "    <tr>\n",
              "      <th>2</th>\n",
              "      <td>Franjo Margraf</td>\n",
              "      <td>28</td>\n",
              "      <td>Kleve</td>\n",
              "      <td>Mazedonien</td>\n",
              "      <td>Augenoptiker</td>\n",
              "      <td>1993-06-07</td>\n",
              "    </tr>\n",
              "    <tr>\n",
              "      <th>3</th>\n",
              "      <td>Nadia van der Dussen-Krause</td>\n",
              "      <td>23</td>\n",
              "      <td>Vilsbiburg</td>\n",
              "      <td>Serbien</td>\n",
              "      <td>Chemikant</td>\n",
              "      <td>2014-08-24</td>\n",
              "    </tr>\n",
              "    <tr>\n",
              "      <th>4</th>\n",
              "      <td>Gerhard Schönland</td>\n",
              "      <td>87</td>\n",
              "      <td>Osterburg</td>\n",
              "      <td>Sri Lanka</td>\n",
              "      <td>Pfleger</td>\n",
              "      <td>1984-04-19</td>\n",
              "    </tr>\n",
              "  </tbody>\n",
              "</table>\n",
              "</div>\n",
              "      <button class=\"colab-df-convert\" onclick=\"convertToInteractive('df-d54ab752-2404-4f76-b8b2-d5a60e48d30b')\"\n",
              "              title=\"Convert this dataframe to an interactive table.\"\n",
              "              style=\"display:none;\">\n",
              "        \n",
              "  <svg xmlns=\"http://www.w3.org/2000/svg\" height=\"24px\"viewBox=\"0 0 24 24\"\n",
              "       width=\"24px\">\n",
              "    <path d=\"M0 0h24v24H0V0z\" fill=\"none\"/>\n",
              "    <path d=\"M18.56 5.44l.94 2.06.94-2.06 2.06-.94-2.06-.94-.94-2.06-.94 2.06-2.06.94zm-11 1L8.5 8.5l.94-2.06 2.06-.94-2.06-.94L8.5 2.5l-.94 2.06-2.06.94zm10 10l.94 2.06.94-2.06 2.06-.94-2.06-.94-.94-2.06-.94 2.06-2.06.94z\"/><path d=\"M17.41 7.96l-1.37-1.37c-.4-.4-.92-.59-1.43-.59-.52 0-1.04.2-1.43.59L10.3 9.45l-7.72 7.72c-.78.78-.78 2.05 0 2.83L4 21.41c.39.39.9.59 1.41.59.51 0 1.02-.2 1.41-.59l7.78-7.78 2.81-2.81c.8-.78.8-2.07 0-2.86zM5.41 20L4 18.59l7.72-7.72 1.47 1.35L5.41 20z\"/>\n",
              "  </svg>\n",
              "      </button>\n",
              "      \n",
              "  <style>\n",
              "    .colab-df-container {\n",
              "      display:flex;\n",
              "      flex-wrap:wrap;\n",
              "      gap: 12px;\n",
              "    }\n",
              "\n",
              "    .colab-df-convert {\n",
              "      background-color: #E8F0FE;\n",
              "      border: none;\n",
              "      border-radius: 50%;\n",
              "      cursor: pointer;\n",
              "      display: none;\n",
              "      fill: #1967D2;\n",
              "      height: 32px;\n",
              "      padding: 0 0 0 0;\n",
              "      width: 32px;\n",
              "    }\n",
              "\n",
              "    .colab-df-convert:hover {\n",
              "      background-color: #E2EBFA;\n",
              "      box-shadow: 0px 1px 2px rgba(60, 64, 67, 0.3), 0px 1px 3px 1px rgba(60, 64, 67, 0.15);\n",
              "      fill: #174EA6;\n",
              "    }\n",
              "\n",
              "    [theme=dark] .colab-df-convert {\n",
              "      background-color: #3B4455;\n",
              "      fill: #D2E3FC;\n",
              "    }\n",
              "\n",
              "    [theme=dark] .colab-df-convert:hover {\n",
              "      background-color: #434B5C;\n",
              "      box-shadow: 0px 1px 3px 1px rgba(0, 0, 0, 0.15);\n",
              "      filter: drop-shadow(0px 1px 2px rgba(0, 0, 0, 0.3));\n",
              "      fill: #FFFFFF;\n",
              "    }\n",
              "  </style>\n",
              "\n",
              "      <script>\n",
              "        const buttonEl =\n",
              "          document.querySelector('#df-d54ab752-2404-4f76-b8b2-d5a60e48d30b button.colab-df-convert');\n",
              "        buttonEl.style.display =\n",
              "          google.colab.kernel.accessAllowed ? 'block' : 'none';\n",
              "\n",
              "        async function convertToInteractive(key) {\n",
              "          const element = document.querySelector('#df-d54ab752-2404-4f76-b8b2-d5a60e48d30b');\n",
              "          const dataTable =\n",
              "            await google.colab.kernel.invokeFunction('convertToInteractive',\n",
              "                                                     [key], {});\n",
              "          if (!dataTable) return;\n",
              "\n",
              "          const docLinkHtml = 'Like what you see? Visit the ' +\n",
              "            '<a target=\"_blank\" href=https://colab.research.google.com/notebooks/data_table.ipynb>data table notebook</a>'\n",
              "            + ' to learn more about interactive tables.';\n",
              "          element.innerHTML = '';\n",
              "          dataTable['output_type'] = 'display_data';\n",
              "          await google.colab.output.renderOutput(dataTable, element);\n",
              "          const docLink = document.createElement('div');\n",
              "          docLink.innerHTML = docLinkHtml;\n",
              "          element.appendChild(docLink);\n",
              "        }\n",
              "      </script>\n",
              "    </div>\n",
              "  </div>\n",
              "  "
            ]
          },
          "metadata": {},
          "execution_count": 63
        }
      ]
    },
    {
      "cell_type": "code",
      "source": [
        "df[\"Age\"].describe()"
      ],
      "metadata": {
        "id": "B_e-uDuJAfXG",
        "colab": {
          "base_uri": "https://localhost:8080/"
        },
        "outputId": "38e9ae91-4153-4731-ae05-5aba0378ba62"
      },
      "execution_count": 64,
      "outputs": [
        {
          "output_type": "execute_result",
          "data": {
            "text/plain": [
              "count    100.000000\n",
              "mean      60.740000\n",
              "std       24.417505\n",
              "min       20.000000\n",
              "25%       38.750000\n",
              "50%       62.000000\n",
              "75%       83.000000\n",
              "max       99.000000\n",
              "Name: Age, dtype: float64"
            ]
          },
          "metadata": {},
          "execution_count": 64
        }
      ]
    },
    {
      "cell_type": "code",
      "source": [
        "df['Country'].value_counts()"
      ],
      "metadata": {
        "id": "V0vSbamEAfUi"
      },
      "execution_count": null,
      "outputs": []
    },
    {
      "cell_type": "code",
      "source": [
        "df['Country'].describe()"
      ],
      "metadata": {
        "id": "wa44A4KlAfR8",
        "colab": {
          "base_uri": "https://localhost:8080/"
        },
        "outputId": "93a2bcec-3b4b-4ce4-ca29-2ebc5cb829c3"
      },
      "execution_count": 66,
      "outputs": [
        {
          "output_type": "execute_result",
          "data": {
            "text/plain": [
              "count          100\n",
              "unique          82\n",
              "top       Kroatien\n",
              "freq             3\n",
              "Name: Country, dtype: object"
            ]
          },
          "metadata": {},
          "execution_count": 66
        }
      ]
    },
    {
      "cell_type": "code",
      "source": [
        ""
      ],
      "metadata": {
        "id": "6WWZRy0fAfPZ"
      },
      "execution_count": null,
      "outputs": []
    },
    {
      "cell_type": "code",
      "source": [
        ""
      ],
      "metadata": {
        "id": "5p0E-_3lE1R9"
      },
      "execution_count": null,
      "outputs": []
    },
    {
      "cell_type": "code",
      "source": [
        ""
      ],
      "metadata": {
        "id": "0HUxyLu9E1Ou"
      },
      "execution_count": null,
      "outputs": []
    },
    {
      "cell_type": "code",
      "source": [
        ""
      ],
      "metadata": {
        "id": "7lWfdeL0TPRs"
      },
      "execution_count": null,
      "outputs": []
    },
    {
      "cell_type": "code",
      "source": [
        ""
      ],
      "metadata": {
        "id": "94744yQKTPOp"
      },
      "execution_count": null,
      "outputs": []
    },
    {
      "cell_type": "code",
      "source": [
        ""
      ],
      "metadata": {
        "id": "ZW_vngf_TPLr"
      },
      "execution_count": null,
      "outputs": []
    }
  ]
}