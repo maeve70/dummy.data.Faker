{
  "nbformat": 4,
  "nbformat_minor": 0,
  "metadata": {
    "colab": {
      "name": "DummyDataUsingFaker.ipynb",
      "provenance": [],
      "collapsed_sections": [],
      "authorship_tag": "ABX9TyNFhlclkVlDGUAD0G3CYk+d",
      "include_colab_link": true
    },
    "kernelspec": {
      "name": "python3",
      "display_name": "Python 3"
    },
    "language_info": {
      "name": "python"
    }
  },
  "cells": [
    {
      "cell_type": "markdown",
      "metadata": {
        "id": "view-in-github",
        "colab_type": "text"
      },
      "source": [
        "<a href=\"https://colab.research.google.com/github/maeve70/dummy.data.Faker/blob/main/DummyDataUsingFaker.ipynb\" target=\"_parent\"><img src=\"https://colab.research.google.com/assets/colab-badge.svg\" alt=\"Open In Colab\"/></a>"
      ]
    },
    {
      "cell_type": "markdown",
      "source": [
        "This is the coolest Python module!!\n",
        "See inspiration here! :\n",
        "\n",
        "https://towardsdatascience.com/faker-an-amazing-and-insanely-useful-python-library-b313a60bdabf\n",
        "\n",
        "\n",
        "Community providers:\n",
        "https://faker.readthedocs.io/en/master/communityproviders.html\n",
        "\n",
        "\n",
        "\n",
        "https://pypi.org/project/faker-vehicle/\n",
        "\n",
        "\n",
        "\n",
        "Faker documentation: \n",
        "\n",
        "https://faker.readthedocs.io/en/master/index.html\n",
        "\n",
        "\n",
        "*This is a WIP as I continue to figure out all the features of Faker.*"
      ],
      "metadata": {
        "id": "vUmynWckDCtf"
      }
    },
    {
      "cell_type": "code",
      "source": [
        "pip install faker"
      ],
      "metadata": {
        "id": "7xwishHR_tsV"
      },
      "execution_count": null,
      "outputs": []
    },
    {
      "cell_type": "code",
      "source": [
        "!pip install faker_vehicle"
      ],
      "metadata": {
        "id": "Ktk-t-XThp_Q"
      },
      "execution_count": null,
      "outputs": []
    },
    {
      "cell_type": "code",
      "source": [
        "#imports to create a fake df\n",
        "#use the random library to generate fake ages. there is no age variable in Faker\n",
        "from faker import Faker\n",
        "fake = Faker()\n",
        "import random\n",
        "import pandas as pd\n",
        "Faker.seed(0)\n",
        "random.seed(0)\n",
        "fake = Faker(\"en_US\") #can pass in different providers as a list\n",
        "import numpy as np\n",
        "import seaborn as sns\n",
        "from matplotlib import pyplot as plt"
      ],
      "metadata": {
        "id": "C2oAryHu-5Cg"
      },
      "execution_count": 36,
      "outputs": []
    },
    {
      "cell_type": "code",
      "source": [
        "fake.name()"
      ],
      "metadata": {
        "colab": {
          "base_uri": "https://localhost:8080/",
          "height": 35
        },
        "id": "YqV6Sbjw-4_R",
        "outputId": "6d9a8d38-195b-43bb-d6b3-33f153b85e25"
      },
      "execution_count": 4,
      "outputs": [
        {
          "output_type": "execute_result",
          "data": {
            "text/plain": [
              "'Norma Fisher'"
            ],
            "application/vnd.google.colaboratory.intrinsic+json": {
              "type": "string"
            }
          },
          "metadata": {},
          "execution_count": 4
        }
      ]
    },
    {
      "cell_type": "code",
      "source": [
        "for _ in range(10):\n",
        "    print(fake.name())"
      ],
      "metadata": {
        "colab": {
          "base_uri": "https://localhost:8080/"
        },
        "id": "t2tMDMQ6C5lz",
        "outputId": "e6ebcbfd-3634-4d6c-ea46-ba448896827c"
      },
      "execution_count": 6,
      "outputs": [
        {
          "output_type": "stream",
          "name": "stdout",
          "text": [
            "Paul Brown\n",
            "James Stone\n",
            "John Richards\n",
            "Jenny Richardson\n",
            "Debbie Waters MD\n",
            "Austin Boyer\n",
            "Stephanie Hayes\n",
            "Barbara Sanders\n",
            "Andrew Gould\n",
            "Charles Gonzalez\n"
          ]
        }
      ]
    },
    {
      "cell_type": "code",
      "source": [
        "fake.job()\n",
        "\n",
        "for i in range(10):\n",
        "    print(fake.job())"
      ],
      "metadata": {
        "colab": {
          "base_uri": "https://localhost:8080/"
        },
        "id": "u6gx3wsI-48E",
        "outputId": "e413b738-663a-4007-d503-0333ce69485a"
      },
      "execution_count": 9,
      "outputs": [
        {
          "output_type": "stream",
          "name": "stdout",
          "text": [
            "Dentist\n",
            "Civil Service fast streamer\n",
            "Therapist, occupational\n",
            "Ranger/warden\n",
            "Data scientist\n",
            "Surveyor, rural practice\n",
            "Optician, dispensing\n",
            "Pharmacologist\n",
            "Scientist, research (life sciences)\n",
            "Research scientist (life sciences)\n"
          ]
        }
      ]
    },
    {
      "cell_type": "code",
      "source": [
        "fake.address()"
      ],
      "metadata": {
        "colab": {
          "base_uri": "https://localhost:8080/",
          "height": 35
        },
        "id": "yGyeukic-445",
        "outputId": "f0f08a56-df55-46ce-e208-46a8f64f5236"
      },
      "execution_count": null,
      "outputs": [
        {
          "output_type": "execute_result",
          "data": {
            "text/plain": [
              "'398 Wallace Ranch Suite 593\\nIvanburgh, RI 86570'"
            ],
            "application/vnd.google.colaboratory.intrinsic+json": {
              "type": "string"
            }
          },
          "metadata": {},
          "execution_count": 17
        }
      ]
    },
    {
      "cell_type": "code",
      "source": [
        "fake.text()"
      ],
      "metadata": {
        "colab": {
          "base_uri": "https://localhost:8080/",
          "height": 35
        },
        "id": "H3KUJJ3g_cGf",
        "outputId": "6b48a1ad-4897-46ed-ad02-372b10b37d5e"
      },
      "execution_count": null,
      "outputs": [
        {
          "output_type": "execute_result",
          "data": {
            "text/plain": [
              "'Aperiam ullam totam at saepe. A laudantium sint doloribus eveniet sit deleniti necessitatibus. Rem consequuntur molestiae at voluptatibus.'"
            ],
            "application/vnd.google.colaboratory.intrinsic+json": {
              "type": "string"
            }
          },
          "metadata": {},
          "execution_count": 17
        }
      ]
    },
    {
      "cell_type": "code",
      "source": [
        "fake1 = Faker(\"fr_FR\") #change the language"
      ],
      "metadata": {
        "id": "xeXMm4X__e6-"
      },
      "execution_count": 10,
      "outputs": []
    },
    {
      "cell_type": "code",
      "source": [
        "fake1.name()"
      ],
      "metadata": {
        "colab": {
          "base_uri": "https://localhost:8080/",
          "height": 35
        },
        "id": "ORjpFjkQAHNy",
        "outputId": "0ad8860b-23b1-49e4-d3f3-89e6e61a2943"
      },
      "execution_count": 11,
      "outputs": [
        {
          "output_type": "execute_result",
          "data": {
            "text/plain": [
              "'Zoé Didier'"
            ],
            "application/vnd.google.colaboratory.intrinsic+json": {
              "type": "string"
            }
          },
          "metadata": {},
          "execution_count": 11
        }
      ]
    },
    {
      "cell_type": "code",
      "source": [
        "fake1.address()"
      ],
      "metadata": {
        "colab": {
          "base_uri": "https://localhost:8080/",
          "height": 35
        },
        "id": "i4PU9luUAHI3",
        "outputId": "522c618e-41e7-4420-a702-826d56b1d543"
      },
      "execution_count": 12,
      "outputs": [
        {
          "output_type": "execute_result",
          "data": {
            "text/plain": [
              "'630, chemin de Lebrun\\n82492 Guillon-la-Forêt'"
            ],
            "application/vnd.google.colaboratory.intrinsic+json": {
              "type": "string"
            }
          },
          "metadata": {},
          "execution_count": 12
        }
      ]
    },
    {
      "cell_type": "code",
      "source": [
        "fake1.street_name()"
      ],
      "metadata": {
        "colab": {
          "base_uri": "https://localhost:8080/",
          "height": 35
        },
        "id": "WrjRFdi6Drg2",
        "outputId": "da8fe472-331a-4d06-f93f-55d5a907b067"
      },
      "execution_count": 13,
      "outputs": [
        {
          "output_type": "execute_result",
          "data": {
            "text/plain": [
              "'avenue de François'"
            ],
            "application/vnd.google.colaboratory.intrinsic+json": {
              "type": "string"
            }
          },
          "metadata": {},
          "execution_count": 13
        }
      ]
    },
    {
      "cell_type": "code",
      "source": [
        "fake.locale() #change the locale"
      ],
      "metadata": {
        "colab": {
          "base_uri": "https://localhost:8080/",
          "height": 35
        },
        "id": "qonoDgmfAEEh",
        "outputId": "ec4bfa89-428f-4fe7-ab3a-9d80fdfc362e"
      },
      "execution_count": 14,
      "outputs": [
        {
          "output_type": "execute_result",
          "data": {
            "text/plain": [
              "'bs_BA'"
            ],
            "application/vnd.google.colaboratory.intrinsic+json": {
              "type": "string"
            }
          },
          "metadata": {},
          "execution_count": 14
        }
      ]
    },
    {
      "cell_type": "code",
      "source": [
        "fake.date()"
      ],
      "metadata": {
        "colab": {
          "base_uri": "https://localhost:8080/",
          "height": 35
        },
        "id": "-iJbrMGUAdgo",
        "outputId": "a400d8cb-8f40-43d0-9681-22fcbecd634a"
      },
      "execution_count": 15,
      "outputs": [
        {
          "output_type": "execute_result",
          "data": {
            "text/plain": [
              "'1974-07-08'"
            ],
            "application/vnd.google.colaboratory.intrinsic+json": {
              "type": "string"
            }
          },
          "metadata": {},
          "execution_count": 15
        }
      ]
    },
    {
      "cell_type": "code",
      "source": [
        "for i in range(10):\n",
        "    print(fake.date())"
      ],
      "metadata": {
        "colab": {
          "base_uri": "https://localhost:8080/"
        },
        "id": "Y4imOSJRAfYA",
        "outputId": "5498ae5d-003b-4d3e-a269-4f3b4fce26cd"
      },
      "execution_count": 16,
      "outputs": [
        {
          "output_type": "stream",
          "name": "stdout",
          "text": [
            "1985-04-26\n",
            "1978-11-18\n",
            "1972-10-06\n",
            "1990-06-12\n",
            "1971-01-15\n",
            "2021-08-23\n",
            "2000-07-11\n",
            "1992-06-30\n",
            "1980-12-07\n",
            "1980-02-16\n"
          ]
        }
      ]
    },
    {
      "cell_type": "markdown",
      "source": [
        "You can select a region too!\n",
        "\n",
        "https://faker.readthedocs.io/en/master/locales.html\n"
      ],
      "metadata": {
        "id": "xgLzhhBEDRQX"
      }
    },
    {
      "cell_type": "code",
      "source": [
        "fake2 = Faker(\"de_DE\")"
      ],
      "metadata": {
        "id": "OotbcbLVAHGA"
      },
      "execution_count": null,
      "outputs": []
    },
    {
      "cell_type": "code",
      "source": [
        "fake2.name()"
      ],
      "metadata": {
        "colab": {
          "base_uri": "https://localhost:8080/",
          "height": 35
        },
        "id": "3pLUeKuCAHDO",
        "outputId": "4448e8be-bba9-4d5b-f844-d28cad30cc37"
      },
      "execution_count": null,
      "outputs": [
        {
          "output_type": "execute_result",
          "data": {
            "text/plain": [
              "'Pascal Hiller'"
            ],
            "application/vnd.google.colaboratory.intrinsic+json": {
              "type": "string"
            }
          },
          "metadata": {},
          "execution_count": 26
        }
      ]
    },
    {
      "cell_type": "code",
      "source": [
        "fake2.address()"
      ],
      "metadata": {
        "colab": {
          "base_uri": "https://localhost:8080/",
          "height": 35
        },
        "id": "v7g3uKs8AHAe",
        "outputId": "c79345d7-49ba-4485-97c2-ea81da1dc7ae"
      },
      "execution_count": null,
      "outputs": [
        {
          "output_type": "execute_result",
          "data": {
            "text/plain": [
              "'Geißlerring 0/1\\n30989 Auerbach'"
            ],
            "application/vnd.google.colaboratory.intrinsic+json": {
              "type": "string"
            }
          },
          "metadata": {},
          "execution_count": 27
        }
      ]
    },
    {
      "cell_type": "code",
      "source": [
        "fake2.job()"
      ],
      "metadata": {
        "colab": {
          "base_uri": "https://localhost:8080/",
          "height": 35
        },
        "id": "j5gnKUaHAG9f",
        "outputId": "1ad3b4f5-2b75-42d6-f7ad-ca140fabfa3b"
      },
      "execution_count": null,
      "outputs": [
        {
          "output_type": "execute_result",
          "data": {
            "text/plain": [
              "'Beamter'"
            ],
            "application/vnd.google.colaboratory.intrinsic+json": {
              "type": "string"
            }
          },
          "metadata": {},
          "execution_count": 28
        }
      ]
    },
    {
      "cell_type": "code",
      "source": [
        "fake2.text()"
      ],
      "metadata": {
        "colab": {
          "base_uri": "https://localhost:8080/",
          "height": 52
        },
        "id": "rb-YBxQ5AfhL",
        "outputId": "3cf47e8b-2503-4ed0-f1f4-73ffe32d4e32"
      },
      "execution_count": null,
      "outputs": [
        {
          "output_type": "execute_result",
          "data": {
            "text/plain": [
              "'Ohne unter fiel seit damit fahren Stelle ging. Bringen der schnell Auge. Onkel will nicht bekommen darauf einigen turnen.\\nBlume Uhr dafür nichts Eltern Zeit. Lange sehr Baum schenken.'"
            ],
            "application/vnd.google.colaboratory.intrinsic+json": {
              "type": "string"
            }
          },
          "metadata": {},
          "execution_count": 24
        }
      ]
    },
    {
      "cell_type": "code",
      "source": [
        "fake.date_time()"
      ],
      "metadata": {
        "colab": {
          "base_uri": "https://localhost:8080/"
        },
        "id": "F-vzuf2UAfe2",
        "outputId": "4b63a26e-e75e-484a-ceb4-e2ebe7c7cabc"
      },
      "execution_count": null,
      "outputs": [
        {
          "output_type": "execute_result",
          "data": {
            "text/plain": [
              "datetime.datetime(2013, 3, 19, 0, 12, 8)"
            ]
          },
          "metadata": {},
          "execution_count": 29
        }
      ]
    },
    {
      "cell_type": "code",
      "source": [
        "#faker.providers.internet\n",
        "Faker.seed(0)\n",
        "for _ in range(5):\n",
        "    fake.ascii_company_email()\n",
        "print(fake.ascii_company_email())"
      ],
      "metadata": {
        "colab": {
          "base_uri": "https://localhost:8080/"
        },
        "id": "y26pJLyDzYGq",
        "outputId": "e928a091-06c0-4801-d5de-d05035daaed0"
      },
      "execution_count": 17,
      "outputs": [
        {
          "output_type": "stream",
          "name": "stdout",
          "text": [
            "cortezraymond@garrett.com\n"
          ]
        }
      ]
    },
    {
      "cell_type": "code",
      "source": [
        "#name, city, country, job, age = [[] for k in range (0, 5)]"
      ],
      "metadata": {
        "id": "jhH1QAl7AfcH"
      },
      "execution_count": null,
      "outputs": []
    },
    {
      "cell_type": "code",
      "source": [
        "Faker.seed(0)\n",
        "for _ in range(5):\n",
        "    fake.email()\n",
        "    print(fake.email())"
      ],
      "metadata": {
        "colab": {
          "base_uri": "https://localhost:8080/"
        },
        "id": "94_b-BfW0D7A",
        "outputId": "f624011f-8e51-4749-e72f-64afe0b1597f"
      },
      "execution_count": 18,
      "outputs": [
        {
          "output_type": "stream",
          "name": "stdout",
          "text": [
            "tammy76@example.com\n",
            "juancampos@example.net\n",
            "corey15@example.com\n",
            "tammywoods@example.net\n",
            "ypage@example.net\n"
          ]
        }
      ]
    },
    {
      "cell_type": "code",
      "source": [
        "fake.name()"
      ],
      "metadata": {
        "colab": {
          "base_uri": "https://localhost:8080/",
          "height": 35
        },
        "id": "pfO0y8cKB6-1",
        "outputId": "29ee3917-f9e9-485b-dfbe-31ac9b1a4312"
      },
      "execution_count": null,
      "outputs": [
        {
          "output_type": "execute_result",
          "data": {
            "text/plain": [
              "'Nicholas Padilla'"
            ],
            "application/vnd.google.colaboratory.intrinsic+json": {
              "type": "string"
            }
          },
          "metadata": {},
          "execution_count": 48
        }
      ]
    },
    {
      "cell_type": "code",
      "source": [
        "#create fake df!\n",
        "name, city, country, job, age, date = [[] for k in range(0,6)] \n",
        "for row in range(0,1000):\n",
        "    name.append(fake.name())\n",
        "    city.append(fake.city())\n",
        "    country.append(fake.country())\n",
        "    job.append(fake.job())\n",
        "    age.append(random.randint(20,100))\n",
        "    date.append(fake.date())\n",
        "    \n",
        "\n",
        "d = {\"Name\":name, \"Age\":age, \"City\":city, \"Country\":country, \"Job\":job, \"Date\": date}\n",
        "df = pd.DataFrame(d)\n",
        "df.head()\n",
        "\n"
      ],
      "metadata": {
        "colab": {
          "base_uri": "https://localhost:8080/",
          "height": 206
        },
        "id": "pCxzs1BRAfZc",
        "outputId": "9f3d1a81-4216-40ee-9da1-c7b2fe2f6b7b"
      },
      "execution_count": 19,
      "outputs": [
        {
          "output_type": "execute_result",
          "data": {
            "text/plain": [
              "            Name  Age         City      Country  \\\n",
              "0   Lisa Clayton   69    Johnmouth      Romania   \n",
              "1   Connie Pratt   73     Port Amy      Bermuda   \n",
              "2  Yolanda Burns   25  Andreaville      Mayotte   \n",
              "3   Robert Payne   53     Seanfurt        Ghana   \n",
              "4   Collin Lopez   85   Thomasland  Philippines   \n",
              "\n",
              "                              Job        Date  \n",
              "0            Biomedical scientist  1983-01-01  \n",
              "1                Catering manager  1991-10-13  \n",
              "2                 Learning mentor  2006-10-07  \n",
              "3  Teaching laboratory technician  1986-06-23  \n",
              "4          Conservator, furniture  1980-03-06  "
            ],
            "text/html": [
              "\n",
              "  <div id=\"df-b6b7bd1c-2602-4586-9aa1-ae8ff3f5b37d\">\n",
              "    <div class=\"colab-df-container\">\n",
              "      <div>\n",
              "<style scoped>\n",
              "    .dataframe tbody tr th:only-of-type {\n",
              "        vertical-align: middle;\n",
              "    }\n",
              "\n",
              "    .dataframe tbody tr th {\n",
              "        vertical-align: top;\n",
              "    }\n",
              "\n",
              "    .dataframe thead th {\n",
              "        text-align: right;\n",
              "    }\n",
              "</style>\n",
              "<table border=\"1\" class=\"dataframe\">\n",
              "  <thead>\n",
              "    <tr style=\"text-align: right;\">\n",
              "      <th></th>\n",
              "      <th>Name</th>\n",
              "      <th>Age</th>\n",
              "      <th>City</th>\n",
              "      <th>Country</th>\n",
              "      <th>Job</th>\n",
              "      <th>Date</th>\n",
              "    </tr>\n",
              "  </thead>\n",
              "  <tbody>\n",
              "    <tr>\n",
              "      <th>0</th>\n",
              "      <td>Lisa Clayton</td>\n",
              "      <td>69</td>\n",
              "      <td>Johnmouth</td>\n",
              "      <td>Romania</td>\n",
              "      <td>Biomedical scientist</td>\n",
              "      <td>1983-01-01</td>\n",
              "    </tr>\n",
              "    <tr>\n",
              "      <th>1</th>\n",
              "      <td>Connie Pratt</td>\n",
              "      <td>73</td>\n",
              "      <td>Port Amy</td>\n",
              "      <td>Bermuda</td>\n",
              "      <td>Catering manager</td>\n",
              "      <td>1991-10-13</td>\n",
              "    </tr>\n",
              "    <tr>\n",
              "      <th>2</th>\n",
              "      <td>Yolanda Burns</td>\n",
              "      <td>25</td>\n",
              "      <td>Andreaville</td>\n",
              "      <td>Mayotte</td>\n",
              "      <td>Learning mentor</td>\n",
              "      <td>2006-10-07</td>\n",
              "    </tr>\n",
              "    <tr>\n",
              "      <th>3</th>\n",
              "      <td>Robert Payne</td>\n",
              "      <td>53</td>\n",
              "      <td>Seanfurt</td>\n",
              "      <td>Ghana</td>\n",
              "      <td>Teaching laboratory technician</td>\n",
              "      <td>1986-06-23</td>\n",
              "    </tr>\n",
              "    <tr>\n",
              "      <th>4</th>\n",
              "      <td>Collin Lopez</td>\n",
              "      <td>85</td>\n",
              "      <td>Thomasland</td>\n",
              "      <td>Philippines</td>\n",
              "      <td>Conservator, furniture</td>\n",
              "      <td>1980-03-06</td>\n",
              "    </tr>\n",
              "  </tbody>\n",
              "</table>\n",
              "</div>\n",
              "      <button class=\"colab-df-convert\" onclick=\"convertToInteractive('df-b6b7bd1c-2602-4586-9aa1-ae8ff3f5b37d')\"\n",
              "              title=\"Convert this dataframe to an interactive table.\"\n",
              "              style=\"display:none;\">\n",
              "        \n",
              "  <svg xmlns=\"http://www.w3.org/2000/svg\" height=\"24px\"viewBox=\"0 0 24 24\"\n",
              "       width=\"24px\">\n",
              "    <path d=\"M0 0h24v24H0V0z\" fill=\"none\"/>\n",
              "    <path d=\"M18.56 5.44l.94 2.06.94-2.06 2.06-.94-2.06-.94-.94-2.06-.94 2.06-2.06.94zm-11 1L8.5 8.5l.94-2.06 2.06-.94-2.06-.94L8.5 2.5l-.94 2.06-2.06.94zm10 10l.94 2.06.94-2.06 2.06-.94-2.06-.94-.94-2.06-.94 2.06-2.06.94z\"/><path d=\"M17.41 7.96l-1.37-1.37c-.4-.4-.92-.59-1.43-.59-.52 0-1.04.2-1.43.59L10.3 9.45l-7.72 7.72c-.78.78-.78 2.05 0 2.83L4 21.41c.39.39.9.59 1.41.59.51 0 1.02-.2 1.41-.59l7.78-7.78 2.81-2.81c.8-.78.8-2.07 0-2.86zM5.41 20L4 18.59l7.72-7.72 1.47 1.35L5.41 20z\"/>\n",
              "  </svg>\n",
              "      </button>\n",
              "      \n",
              "  <style>\n",
              "    .colab-df-container {\n",
              "      display:flex;\n",
              "      flex-wrap:wrap;\n",
              "      gap: 12px;\n",
              "    }\n",
              "\n",
              "    .colab-df-convert {\n",
              "      background-color: #E8F0FE;\n",
              "      border: none;\n",
              "      border-radius: 50%;\n",
              "      cursor: pointer;\n",
              "      display: none;\n",
              "      fill: #1967D2;\n",
              "      height: 32px;\n",
              "      padding: 0 0 0 0;\n",
              "      width: 32px;\n",
              "    }\n",
              "\n",
              "    .colab-df-convert:hover {\n",
              "      background-color: #E2EBFA;\n",
              "      box-shadow: 0px 1px 2px rgba(60, 64, 67, 0.3), 0px 1px 3px 1px rgba(60, 64, 67, 0.15);\n",
              "      fill: #174EA6;\n",
              "    }\n",
              "\n",
              "    [theme=dark] .colab-df-convert {\n",
              "      background-color: #3B4455;\n",
              "      fill: #D2E3FC;\n",
              "    }\n",
              "\n",
              "    [theme=dark] .colab-df-convert:hover {\n",
              "      background-color: #434B5C;\n",
              "      box-shadow: 0px 1px 3px 1px rgba(0, 0, 0, 0.15);\n",
              "      filter: drop-shadow(0px 1px 2px rgba(0, 0, 0, 0.3));\n",
              "      fill: #FFFFFF;\n",
              "    }\n",
              "  </style>\n",
              "\n",
              "      <script>\n",
              "        const buttonEl =\n",
              "          document.querySelector('#df-b6b7bd1c-2602-4586-9aa1-ae8ff3f5b37d button.colab-df-convert');\n",
              "        buttonEl.style.display =\n",
              "          google.colab.kernel.accessAllowed ? 'block' : 'none';\n",
              "\n",
              "        async function convertToInteractive(key) {\n",
              "          const element = document.querySelector('#df-b6b7bd1c-2602-4586-9aa1-ae8ff3f5b37d');\n",
              "          const dataTable =\n",
              "            await google.colab.kernel.invokeFunction('convertToInteractive',\n",
              "                                                     [key], {});\n",
              "          if (!dataTable) return;\n",
              "\n",
              "          const docLinkHtml = 'Like what you see? Visit the ' +\n",
              "            '<a target=\"_blank\" href=https://colab.research.google.com/notebooks/data_table.ipynb>data table notebook</a>'\n",
              "            + ' to learn more about interactive tables.';\n",
              "          element.innerHTML = '';\n",
              "          dataTable['output_type'] = 'display_data';\n",
              "          await google.colab.output.renderOutput(dataTable, element);\n",
              "          const docLink = document.createElement('div');\n",
              "          docLink.innerHTML = docLinkHtml;\n",
              "          element.appendChild(docLink);\n",
              "        }\n",
              "      </script>\n",
              "    </div>\n",
              "  </div>\n",
              "  "
            ]
          },
          "metadata": {},
          "execution_count": 19
        }
      ]
    },
    {
      "cell_type": "code",
      "source": [
        "df[\"Age\"].describe()"
      ],
      "metadata": {
        "id": "B_e-uDuJAfXG",
        "colab": {
          "base_uri": "https://localhost:8080/"
        },
        "outputId": "fa2ec791-e6a1-4950-d1e1-c2c14429f562"
      },
      "execution_count": 20,
      "outputs": [
        {
          "output_type": "execute_result",
          "data": {
            "text/plain": [
              "count    1000.000000\n",
              "mean       59.050000\n",
              "std        23.554624\n",
              "min        20.000000\n",
              "25%        38.000000\n",
              "50%        59.000000\n",
              "75%        79.000000\n",
              "max       100.000000\n",
              "Name: Age, dtype: float64"
            ]
          },
          "metadata": {},
          "execution_count": 20
        }
      ]
    },
    {
      "cell_type": "code",
      "source": [
        "df['Country'].value_counts()"
      ],
      "metadata": {
        "id": "V0vSbamEAfUi",
        "colab": {
          "base_uri": "https://localhost:8080/"
        },
        "outputId": "18c69f1c-f53c-4536-de26-7ae74b89dbd0"
      },
      "execution_count": 21,
      "outputs": [
        {
          "output_type": "execute_result",
          "data": {
            "text/plain": [
              "Martinique               12\n",
              "Congo                    10\n",
              "Burkina Faso              8\n",
              "Armenia                   8\n",
              "Hong Kong                 8\n",
              "                         ..\n",
              "Saint Kitts and Nevis     1\n",
              "Iran                      1\n",
              "Algeria                   1\n",
              "Cayman Islands            1\n",
              "Pakistan                  1\n",
              "Name: Country, Length: 239, dtype: int64"
            ]
          },
          "metadata": {},
          "execution_count": 21
        }
      ]
    },
    {
      "cell_type": "code",
      "source": [
        "df['Country'].describe()"
      ],
      "metadata": {
        "id": "wa44A4KlAfR8",
        "colab": {
          "base_uri": "https://localhost:8080/"
        },
        "outputId": "72409df0-1345-4126-df5c-a4d9800a9de2"
      },
      "execution_count": 22,
      "outputs": [
        {
          "output_type": "execute_result",
          "data": {
            "text/plain": [
              "count           1000\n",
              "unique           239\n",
              "top       Martinique\n",
              "freq              12\n",
              "Name: Country, dtype: object"
            ]
          },
          "metadata": {},
          "execution_count": 22
        }
      ]
    },
    {
      "cell_type": "code",
      "source": [
        "df['City'].value_counts()"
      ],
      "metadata": {
        "id": "6WWZRy0fAfPZ",
        "colab": {
          "base_uri": "https://localhost:8080/"
        },
        "outputId": "602b6138-0f0f-4569-e863-9080fa976cc4"
      },
      "execution_count": 23,
      "outputs": [
        {
          "output_type": "execute_result",
          "data": {
            "text/plain": [
              "North Robert         3\n",
              "South Christopher    3\n",
              "South Kimberly       3\n",
              "Ramireztown          2\n",
              "West Mark            2\n",
              "                    ..\n",
              "North Lauraland      1\n",
              "Port Brittney        1\n",
              "Port Craig           1\n",
              "Reynoldsville        1\n",
              "South Ana            1\n",
              "Name: City, Length: 964, dtype: int64"
            ]
          },
          "metadata": {},
          "execution_count": 23
        }
      ]
    },
    {
      "cell_type": "code",
      "source": [
        "df[\"Age\"].mean()"
      ],
      "metadata": {
        "id": "0HUxyLu9E1Ou",
        "colab": {
          "base_uri": "https://localhost:8080/"
        },
        "outputId": "3d939f8e-5407-4bae-ec7b-61c0de741347"
      },
      "execution_count": 30,
      "outputs": [
        {
          "output_type": "execute_result",
          "data": {
            "text/plain": [
              "59.05"
            ]
          },
          "metadata": {},
          "execution_count": 30
        }
      ]
    },
    {
      "cell_type": "code",
      "source": [
        "df[\"Age\"].describe()"
      ],
      "metadata": {
        "id": "7lWfdeL0TPRs",
        "colab": {
          "base_uri": "https://localhost:8080/"
        },
        "outputId": "99816544-478a-4607-d026-4759dca8017c"
      },
      "execution_count": 31,
      "outputs": [
        {
          "output_type": "execute_result",
          "data": {
            "text/plain": [
              "count    1000.000000\n",
              "mean       59.050000\n",
              "std        23.554624\n",
              "min        20.000000\n",
              "25%        38.000000\n",
              "50%        59.000000\n",
              "75%        79.000000\n",
              "max       100.000000\n",
              "Name: Age, dtype: float64"
            ]
          },
          "metadata": {},
          "execution_count": 31
        }
      ]
    },
    {
      "cell_type": "code",
      "source": [
        "df_city_group = df.groupby(\"City\")"
      ],
      "metadata": {
        "id": "94744yQKTPOp"
      },
      "execution_count": 32,
      "outputs": []
    },
    {
      "cell_type": "code",
      "source": [
        "df_city_group.mean()"
      ],
      "metadata": {
        "id": "ZW_vngf_TPLr",
        "colab": {
          "base_uri": "https://localhost:8080/",
          "height": 455
        },
        "outputId": "3f37d5c9-a7db-4e82-a77f-06b837102ab2"
      },
      "execution_count": 33,
      "outputs": [
        {
          "output_type": "execute_result",
          "data": {
            "text/plain": [
              "               Age\n",
              "City              \n",
              "Aaronberg     37.0\n",
              "Aaronmouth    57.0\n",
              "Adammouth     26.0\n",
              "Adamsborough  99.0\n",
              "Adamtown      43.0\n",
              "...            ...\n",
              "Youngfurt     21.0\n",
              "Youngshire    81.0\n",
              "Youngside     63.0\n",
              "Zacharyberg   42.0\n",
              "Zacharyport   44.0\n",
              "\n",
              "[964 rows x 1 columns]"
            ],
            "text/html": [
              "\n",
              "  <div id=\"df-ce328d93-62f2-4387-9ff1-b0986102ffc1\">\n",
              "    <div class=\"colab-df-container\">\n",
              "      <div>\n",
              "<style scoped>\n",
              "    .dataframe tbody tr th:only-of-type {\n",
              "        vertical-align: middle;\n",
              "    }\n",
              "\n",
              "    .dataframe tbody tr th {\n",
              "        vertical-align: top;\n",
              "    }\n",
              "\n",
              "    .dataframe thead th {\n",
              "        text-align: right;\n",
              "    }\n",
              "</style>\n",
              "<table border=\"1\" class=\"dataframe\">\n",
              "  <thead>\n",
              "    <tr style=\"text-align: right;\">\n",
              "      <th></th>\n",
              "      <th>Age</th>\n",
              "    </tr>\n",
              "    <tr>\n",
              "      <th>City</th>\n",
              "      <th></th>\n",
              "    </tr>\n",
              "  </thead>\n",
              "  <tbody>\n",
              "    <tr>\n",
              "      <th>Aaronberg</th>\n",
              "      <td>37.0</td>\n",
              "    </tr>\n",
              "    <tr>\n",
              "      <th>Aaronmouth</th>\n",
              "      <td>57.0</td>\n",
              "    </tr>\n",
              "    <tr>\n",
              "      <th>Adammouth</th>\n",
              "      <td>26.0</td>\n",
              "    </tr>\n",
              "    <tr>\n",
              "      <th>Adamsborough</th>\n",
              "      <td>99.0</td>\n",
              "    </tr>\n",
              "    <tr>\n",
              "      <th>Adamtown</th>\n",
              "      <td>43.0</td>\n",
              "    </tr>\n",
              "    <tr>\n",
              "      <th>...</th>\n",
              "      <td>...</td>\n",
              "    </tr>\n",
              "    <tr>\n",
              "      <th>Youngfurt</th>\n",
              "      <td>21.0</td>\n",
              "    </tr>\n",
              "    <tr>\n",
              "      <th>Youngshire</th>\n",
              "      <td>81.0</td>\n",
              "    </tr>\n",
              "    <tr>\n",
              "      <th>Youngside</th>\n",
              "      <td>63.0</td>\n",
              "    </tr>\n",
              "    <tr>\n",
              "      <th>Zacharyberg</th>\n",
              "      <td>42.0</td>\n",
              "    </tr>\n",
              "    <tr>\n",
              "      <th>Zacharyport</th>\n",
              "      <td>44.0</td>\n",
              "    </tr>\n",
              "  </tbody>\n",
              "</table>\n",
              "<p>964 rows × 1 columns</p>\n",
              "</div>\n",
              "      <button class=\"colab-df-convert\" onclick=\"convertToInteractive('df-ce328d93-62f2-4387-9ff1-b0986102ffc1')\"\n",
              "              title=\"Convert this dataframe to an interactive table.\"\n",
              "              style=\"display:none;\">\n",
              "        \n",
              "  <svg xmlns=\"http://www.w3.org/2000/svg\" height=\"24px\"viewBox=\"0 0 24 24\"\n",
              "       width=\"24px\">\n",
              "    <path d=\"M0 0h24v24H0V0z\" fill=\"none\"/>\n",
              "    <path d=\"M18.56 5.44l.94 2.06.94-2.06 2.06-.94-2.06-.94-.94-2.06-.94 2.06-2.06.94zm-11 1L8.5 8.5l.94-2.06 2.06-.94-2.06-.94L8.5 2.5l-.94 2.06-2.06.94zm10 10l.94 2.06.94-2.06 2.06-.94-2.06-.94-.94-2.06-.94 2.06-2.06.94z\"/><path d=\"M17.41 7.96l-1.37-1.37c-.4-.4-.92-.59-1.43-.59-.52 0-1.04.2-1.43.59L10.3 9.45l-7.72 7.72c-.78.78-.78 2.05 0 2.83L4 21.41c.39.39.9.59 1.41.59.51 0 1.02-.2 1.41-.59l7.78-7.78 2.81-2.81c.8-.78.8-2.07 0-2.86zM5.41 20L4 18.59l7.72-7.72 1.47 1.35L5.41 20z\"/>\n",
              "  </svg>\n",
              "      </button>\n",
              "      \n",
              "  <style>\n",
              "    .colab-df-container {\n",
              "      display:flex;\n",
              "      flex-wrap:wrap;\n",
              "      gap: 12px;\n",
              "    }\n",
              "\n",
              "    .colab-df-convert {\n",
              "      background-color: #E8F0FE;\n",
              "      border: none;\n",
              "      border-radius: 50%;\n",
              "      cursor: pointer;\n",
              "      display: none;\n",
              "      fill: #1967D2;\n",
              "      height: 32px;\n",
              "      padding: 0 0 0 0;\n",
              "      width: 32px;\n",
              "    }\n",
              "\n",
              "    .colab-df-convert:hover {\n",
              "      background-color: #E2EBFA;\n",
              "      box-shadow: 0px 1px 2px rgba(60, 64, 67, 0.3), 0px 1px 3px 1px rgba(60, 64, 67, 0.15);\n",
              "      fill: #174EA6;\n",
              "    }\n",
              "\n",
              "    [theme=dark] .colab-df-convert {\n",
              "      background-color: #3B4455;\n",
              "      fill: #D2E3FC;\n",
              "    }\n",
              "\n",
              "    [theme=dark] .colab-df-convert:hover {\n",
              "      background-color: #434B5C;\n",
              "      box-shadow: 0px 1px 3px 1px rgba(0, 0, 0, 0.15);\n",
              "      filter: drop-shadow(0px 1px 2px rgba(0, 0, 0, 0.3));\n",
              "      fill: #FFFFFF;\n",
              "    }\n",
              "  </style>\n",
              "\n",
              "      <script>\n",
              "        const buttonEl =\n",
              "          document.querySelector('#df-ce328d93-62f2-4387-9ff1-b0986102ffc1 button.colab-df-convert');\n",
              "        buttonEl.style.display =\n",
              "          google.colab.kernel.accessAllowed ? 'block' : 'none';\n",
              "\n",
              "        async function convertToInteractive(key) {\n",
              "          const element = document.querySelector('#df-ce328d93-62f2-4387-9ff1-b0986102ffc1');\n",
              "          const dataTable =\n",
              "            await google.colab.kernel.invokeFunction('convertToInteractive',\n",
              "                                                     [key], {});\n",
              "          if (!dataTable) return;\n",
              "\n",
              "          const docLinkHtml = 'Like what you see? Visit the ' +\n",
              "            '<a target=\"_blank\" href=https://colab.research.google.com/notebooks/data_table.ipynb>data table notebook</a>'\n",
              "            + ' to learn more about interactive tables.';\n",
              "          element.innerHTML = '';\n",
              "          dataTable['output_type'] = 'display_data';\n",
              "          await google.colab.output.renderOutput(dataTable, element);\n",
              "          const docLink = document.createElement('div');\n",
              "          docLink.innerHTML = docLinkHtml;\n",
              "          element.appendChild(docLink);\n",
              "        }\n",
              "      </script>\n",
              "    </div>\n",
              "  </div>\n",
              "  "
            ]
          },
          "metadata": {},
          "execution_count": 33
        }
      ]
    },
    {
      "cell_type": "code",
      "source": [
        "#create a fake profile\n",
        "\n",
        "fake.profile()"
      ],
      "metadata": {
        "colab": {
          "base_uri": "https://localhost:8080/"
        },
        "id": "ZSx3DI6EbfE2",
        "outputId": "d9460451-f6e5-409a-84ef-2e9251057b14"
      },
      "execution_count": 37,
      "outputs": [
        {
          "output_type": "execute_result",
          "data": {
            "text/plain": [
              "{'address': '711 Golden Overpass\\nWest Andreaville, MA 71317',\n",
              " 'birthdate': datetime.date(1945, 10, 5),\n",
              " 'blood_group': 'B+',\n",
              " 'company': 'Williams-Sheppard',\n",
              " 'current_location': (Decimal('52.958961'), Decimal('143.143712')),\n",
              " 'job': 'Musician',\n",
              " 'mail': 'tamaramorrison@hotmail.com',\n",
              " 'name': 'Gary Cross',\n",
              " 'residence': 'Unit 5938 Box 2421\\nDPO AP 33335',\n",
              " 'sex': 'M',\n",
              " 'ssn': '498-52-4970',\n",
              " 'username': 'leeashley',\n",
              " 'website': ['http://www.rivera.com/',\n",
              "  'http://grimes-green.net/',\n",
              "  'http://www.larsen.com/']}"
            ]
          },
          "metadata": {},
          "execution_count": 37
        }
      ]
    },
    {
      "cell_type": "code",
      "source": [
        "for i in range(100):\n",
        "    print(fake.profile())"
      ],
      "metadata": {
        "colab": {
          "base_uri": "https://localhost:8080/"
        },
        "id": "VdPguJBfbfB-",
        "outputId": "001b4a0e-24c2-482f-f6bd-abb79f92317f"
      },
      "execution_count": 38,
      "outputs": [
        {
          "output_type": "stream",
          "name": "stdout",
          "text": [
            "{'job': 'Producer, television/film/video', 'company': 'Carlson Group', 'ssn': '325-74-3967', 'residence': '09471 Erika Curve\\nNorth Megan, UT 71358', 'current_location': (Decimal('15.037732'), Decimal('101.628490')), 'blood_group': 'AB+', 'website': ['http://hill.com/', 'http://wilson.com/'], 'username': 'laura56', 'name': 'Denise Thornton', 'sex': 'F', 'address': '30989 Anthony Roads\\nNew Maria, MO 12498', 'mail': 'martha10@hotmail.com', 'birthdate': datetime.date(1909, 7, 22)}\n",
            "{'job': 'Engineer, broadcasting (operations)', 'company': 'Robbins Group', 'ssn': '216-94-1001', 'residence': 'USS Stephens\\nFPO AP 13804', 'current_location': (Decimal('-20.228286'), Decimal('-142.416727')), 'blood_group': 'B-', 'website': ['https://white-gordon.com/'], 'username': 'kmassey', 'name': 'Jeanne Green', 'sex': 'F', 'address': '22584 Candice Mills\\nNorth Thomas, OK 67164', 'mail': 'deborah64@gmail.com', 'birthdate': datetime.date(1982, 11, 28)}\n",
            "{'job': 'Administrator, charities/voluntary organisations', 'company': 'Harmon-Rogers', 'ssn': '047-70-4602', 'residence': '9459 Jennifer Loaf Suite 109\\nLake Matthew, IN 84046', 'current_location': (Decimal('30.2954115'), Decimal('23.285134')), 'blood_group': 'O+', 'website': ['https://fletcher.com/'], 'username': 'hensontroy', 'name': 'John Hoffman', 'sex': 'M', 'address': '63812 Richard Springs Suite 503\\nLake Karenhaven, CT 25464', 'mail': 'franklinjames@yahoo.com', 'birthdate': datetime.date(1944, 9, 19)}\n",
            "{'job': 'Education officer, environmental', 'company': 'Alvarez Group', 'ssn': '643-11-0358', 'residence': '42851 Joshua Brook Apt. 034\\nStaceyshire, AZ 98691', 'current_location': (Decimal('73.100442'), Decimal('171.844720')), 'blood_group': 'O-', 'website': ['https://thompson.com/', 'http://morgan-richardson.com/', 'https://www.nelson.org/', 'https://hays-anderson.com/'], 'username': 'turnermary', 'name': 'Timothy Parker', 'sex': 'M', 'address': '87755 Timothy Squares\\nSimmonsport, WA 90561', 'mail': 'samanthasims@yahoo.com', 'birthdate': datetime.date(2016, 4, 28)}\n",
            "{'job': 'Chartered loss adjuster', 'company': 'Morton and Sons', 'ssn': '768-29-1002', 'residence': '8847 Kramer Station\\nSouth Christopher, KS 77208', 'current_location': (Decimal('-45.2837235'), Decimal('51.510024')), 'blood_group': 'B-', 'website': ['http://www.johnson.com/', 'http://scott-davidson.com/', 'http://www.ellis.net/'], 'username': 'blittle', 'name': 'Linda Freeman', 'sex': 'F', 'address': '577 Amy Forges Apt. 555\\nNew Eddieview, WY 20935', 'mail': 'taguilar@hotmail.com', 'birthdate': datetime.date(2016, 6, 13)}\n",
            "{'job': 'Psychotherapist, dance movement', 'company': 'Marsh PLC', 'ssn': '890-06-1088', 'residence': '0752 Misty Mount\\nWilliamhaven, AZ 75719', 'current_location': (Decimal('-65.6671615'), Decimal('98.098248')), 'blood_group': 'A-', 'website': ['http://santana.biz/', 'http://www.mcclure.org/', 'https://snyder.com/', 'https://brown-davidson.com/'], 'username': 'olsondonald', 'name': 'Sandra Brown', 'sex': 'F', 'address': '256 Cheryl Lights\\nWilliamsfort, FL 03152', 'mail': 'georgedavid@yahoo.com', 'birthdate': datetime.date(1920, 12, 10)}\n",
            "{'job': 'Stage manager', 'company': 'Reed, Reyes and Frank', 'ssn': '503-15-0986', 'residence': '519 Kramer Crossroad Suite 418\\nNorth Kimberly, MN 99672', 'current_location': (Decimal('-38.869070'), Decimal('64.528721')), 'blood_group': 'AB-', 'website': ['http://www.scott-johnson.net/'], 'username': 'hhunter', 'name': 'Paula Wilkerson', 'sex': 'F', 'address': '16116 Jessica Burgs Suite 660\\nCalhounmouth, KS 10795', 'mail': 'chad50@yahoo.com', 'birthdate': datetime.date(1953, 12, 16)}\n",
            "{'job': 'Editor, magazine features', 'company': 'Greer and Sons', 'ssn': '839-47-1156', 'residence': '03104 Norris Rapids\\nPort Donald, DE 62982', 'current_location': (Decimal('2.462487'), Decimal('-41.369813')), 'blood_group': 'B+', 'website': ['http://kennedy-carter.net/'], 'username': 'eric22', 'name': 'Willie Garcia', 'sex': 'M', 'address': '332 Watson Shore Apt. 290\\nMillerland, MT 39742', 'mail': 'jyang@hotmail.com', 'birthdate': datetime.date(1964, 1, 27)}\n",
            "{'job': 'Hydrogeologist', 'company': 'Gomez, Wright and Chen', 'ssn': '653-68-0948', 'residence': '5735 Farley Course\\nPort Daniel, OH 79871', 'current_location': (Decimal('-48.693466'), Decimal('59.532676')), 'blood_group': 'O+', 'website': ['https://wright.com/', 'http://welch-miller.com/'], 'username': 'robinsondanny', 'name': 'Michael Montgomery', 'sex': 'M', 'address': 'Unit 4892 Box 6717\\nDPO AE 71770', 'mail': 'bramirez@gmail.com', 'birthdate': datetime.date(1943, 5, 15)}\n",
            "{'job': 'Architect', 'company': 'Scott PLC', 'ssn': '596-91-6492', 'residence': '4391 Chad Greens Suite 851\\nPort Frank, LA 37561', 'current_location': (Decimal('49.5419055'), Decimal('-107.833532')), 'blood_group': 'B-', 'website': ['https://osborne.com/'], 'username': 'qtaylor', 'name': 'Melissa James', 'sex': 'F', 'address': '637 Neal Island Suite 074\\nLake Tyler, RI 28775', 'mail': 'kellypeter@gmail.com', 'birthdate': datetime.date(2021, 10, 13)}\n"
          ]
        }
      ]
    },
    {
      "cell_type": "code",
      "source": [
        "profiles = [fake.profile() for i in range(100)]\n",
        "pd.DataFrame(profiles).head()"
      ],
      "metadata": {
        "colab": {
          "base_uri": "https://localhost:8080/",
          "height": 444
        },
        "id": "4egcT64wbe-y",
        "outputId": "60383cac-1937-4ace-98c3-1eeb41a25351"
      },
      "execution_count": 39,
      "outputs": [
        {
          "output_type": "execute_result",
          "data": {
            "text/plain": [
              "                                 job          company          ssn  \\\n",
              "0            Secretary/administrator     Mcdaniel Inc  703-95-6474   \n",
              "1               Engineer, automotive  Franklin-Obrien  088-41-5291   \n",
              "2  Special educational needs teacher     Dawson Group  527-78-7571   \n",
              "3                    Records manager  Parker-Benjamin  569-84-2672   \n",
              "4               Newspaper journalist   Smith and Sons  637-85-8421   \n",
              "\n",
              "                                           residence  \\\n",
              "0          90443 Karen Heights\\nNorth Ryan, MA 50849   \n",
              "1    0803 Miller Ways Suite 334\\nLarryfurt, NJ 45581   \n",
              "2  3019 Gerald Mall Apt. 340\\nTrevinoville, SD 36216   \n",
              "3  785 Jonathon Rapids Suite 354\\nAcevedoborough,...   \n",
              "4     53230 Julia Villages\\nLake Christian, PA 14087   \n",
              "\n",
              "            current_location blood_group  \\\n",
              "0   (-44.8342855, -2.459195)          O+   \n",
              "1  (-25.585690, -156.107687)         AB+   \n",
              "2   (-58.259036, 123.153262)         AB-   \n",
              "3     (-22.996103, 4.235505)          O-   \n",
              "4    (76.566930, 157.440400)          O-   \n",
              "\n",
              "                                             website          username  \\\n",
              "0  [http://hernandez.com/, https://simmons-vasque...          kelsey56   \n",
              "1                       [http://hardy-williams.biz/]      mckenzieeric   \n",
              "2    [https://www.decker.com/, http://castillo.com/]            lmoore   \n",
              "3           [https://martin.com/, http://henry.com/]  nicholsonmichael   \n",
              "4  [http://shaffer-oconnor.com/, http://howard.com/]           zmorgan   \n",
              "\n",
              "              name sex                                            address  \\\n",
              "0        Lisa Bush   F       774 Lewis Grove Apt. 002\\nAdamtown, CA 56566   \n",
              "1     Bruce Miller   M       9168 Williams Falls\\nSouth Jeffrey, KY 46651   \n",
              "2     Mark Burnett   M             37933 Lisa Trace\\nGomezshire, SC 65835   \n",
              "3  Courtney Valdez   F         76254 Debra Stream\\nReyeschester, KS 70454   \n",
              "4       Henry Moss   M  48487 Kendra Ports Suite 076\\nSouth Michaelton...   \n",
              "\n",
              "                        mail   birthdate  \n",
              "0      tarasanders@gmail.com  1968-05-11  \n",
              "1       virginia18@yahoo.com  1989-08-23  \n",
              "2  jensenanthony@hotmail.com  1955-06-02  \n",
              "3          kmalone@gmail.com  1962-04-08  \n",
              "4       kingerin@hotmail.com  2012-03-19  "
            ],
            "text/html": [
              "\n",
              "  <div id=\"df-bfc8dca2-c92e-4936-9492-d5cb7f775aff\">\n",
              "    <div class=\"colab-df-container\">\n",
              "      <div>\n",
              "<style scoped>\n",
              "    .dataframe tbody tr th:only-of-type {\n",
              "        vertical-align: middle;\n",
              "    }\n",
              "\n",
              "    .dataframe tbody tr th {\n",
              "        vertical-align: top;\n",
              "    }\n",
              "\n",
              "    .dataframe thead th {\n",
              "        text-align: right;\n",
              "    }\n",
              "</style>\n",
              "<table border=\"1\" class=\"dataframe\">\n",
              "  <thead>\n",
              "    <tr style=\"text-align: right;\">\n",
              "      <th></th>\n",
              "      <th>job</th>\n",
              "      <th>company</th>\n",
              "      <th>ssn</th>\n",
              "      <th>residence</th>\n",
              "      <th>current_location</th>\n",
              "      <th>blood_group</th>\n",
              "      <th>website</th>\n",
              "      <th>username</th>\n",
              "      <th>name</th>\n",
              "      <th>sex</th>\n",
              "      <th>address</th>\n",
              "      <th>mail</th>\n",
              "      <th>birthdate</th>\n",
              "    </tr>\n",
              "  </thead>\n",
              "  <tbody>\n",
              "    <tr>\n",
              "      <th>0</th>\n",
              "      <td>Secretary/administrator</td>\n",
              "      <td>Mcdaniel Inc</td>\n",
              "      <td>703-95-6474</td>\n",
              "      <td>90443 Karen Heights\\nNorth Ryan, MA 50849</td>\n",
              "      <td>(-44.8342855, -2.459195)</td>\n",
              "      <td>O+</td>\n",
              "      <td>[http://hernandez.com/, https://simmons-vasque...</td>\n",
              "      <td>kelsey56</td>\n",
              "      <td>Lisa Bush</td>\n",
              "      <td>F</td>\n",
              "      <td>774 Lewis Grove Apt. 002\\nAdamtown, CA 56566</td>\n",
              "      <td>tarasanders@gmail.com</td>\n",
              "      <td>1968-05-11</td>\n",
              "    </tr>\n",
              "    <tr>\n",
              "      <th>1</th>\n",
              "      <td>Engineer, automotive</td>\n",
              "      <td>Franklin-Obrien</td>\n",
              "      <td>088-41-5291</td>\n",
              "      <td>0803 Miller Ways Suite 334\\nLarryfurt, NJ 45581</td>\n",
              "      <td>(-25.585690, -156.107687)</td>\n",
              "      <td>AB+</td>\n",
              "      <td>[http://hardy-williams.biz/]</td>\n",
              "      <td>mckenzieeric</td>\n",
              "      <td>Bruce Miller</td>\n",
              "      <td>M</td>\n",
              "      <td>9168 Williams Falls\\nSouth Jeffrey, KY 46651</td>\n",
              "      <td>virginia18@yahoo.com</td>\n",
              "      <td>1989-08-23</td>\n",
              "    </tr>\n",
              "    <tr>\n",
              "      <th>2</th>\n",
              "      <td>Special educational needs teacher</td>\n",
              "      <td>Dawson Group</td>\n",
              "      <td>527-78-7571</td>\n",
              "      <td>3019 Gerald Mall Apt. 340\\nTrevinoville, SD 36216</td>\n",
              "      <td>(-58.259036, 123.153262)</td>\n",
              "      <td>AB-</td>\n",
              "      <td>[https://www.decker.com/, http://castillo.com/]</td>\n",
              "      <td>lmoore</td>\n",
              "      <td>Mark Burnett</td>\n",
              "      <td>M</td>\n",
              "      <td>37933 Lisa Trace\\nGomezshire, SC 65835</td>\n",
              "      <td>jensenanthony@hotmail.com</td>\n",
              "      <td>1955-06-02</td>\n",
              "    </tr>\n",
              "    <tr>\n",
              "      <th>3</th>\n",
              "      <td>Records manager</td>\n",
              "      <td>Parker-Benjamin</td>\n",
              "      <td>569-84-2672</td>\n",
              "      <td>785 Jonathon Rapids Suite 354\\nAcevedoborough,...</td>\n",
              "      <td>(-22.996103, 4.235505)</td>\n",
              "      <td>O-</td>\n",
              "      <td>[https://martin.com/, http://henry.com/]</td>\n",
              "      <td>nicholsonmichael</td>\n",
              "      <td>Courtney Valdez</td>\n",
              "      <td>F</td>\n",
              "      <td>76254 Debra Stream\\nReyeschester, KS 70454</td>\n",
              "      <td>kmalone@gmail.com</td>\n",
              "      <td>1962-04-08</td>\n",
              "    </tr>\n",
              "    <tr>\n",
              "      <th>4</th>\n",
              "      <td>Newspaper journalist</td>\n",
              "      <td>Smith and Sons</td>\n",
              "      <td>637-85-8421</td>\n",
              "      <td>53230 Julia Villages\\nLake Christian, PA 14087</td>\n",
              "      <td>(76.566930, 157.440400)</td>\n",
              "      <td>O-</td>\n",
              "      <td>[http://shaffer-oconnor.com/, http://howard.com/]</td>\n",
              "      <td>zmorgan</td>\n",
              "      <td>Henry Moss</td>\n",
              "      <td>M</td>\n",
              "      <td>48487 Kendra Ports Suite 076\\nSouth Michaelton...</td>\n",
              "      <td>kingerin@hotmail.com</td>\n",
              "      <td>2012-03-19</td>\n",
              "    </tr>\n",
              "  </tbody>\n",
              "</table>\n",
              "</div>\n",
              "      <button class=\"colab-df-convert\" onclick=\"convertToInteractive('df-bfc8dca2-c92e-4936-9492-d5cb7f775aff')\"\n",
              "              title=\"Convert this dataframe to an interactive table.\"\n",
              "              style=\"display:none;\">\n",
              "        \n",
              "  <svg xmlns=\"http://www.w3.org/2000/svg\" height=\"24px\"viewBox=\"0 0 24 24\"\n",
              "       width=\"24px\">\n",
              "    <path d=\"M0 0h24v24H0V0z\" fill=\"none\"/>\n",
              "    <path d=\"M18.56 5.44l.94 2.06.94-2.06 2.06-.94-2.06-.94-.94-2.06-.94 2.06-2.06.94zm-11 1L8.5 8.5l.94-2.06 2.06-.94-2.06-.94L8.5 2.5l-.94 2.06-2.06.94zm10 10l.94 2.06.94-2.06 2.06-.94-2.06-.94-.94-2.06-.94 2.06-2.06.94z\"/><path d=\"M17.41 7.96l-1.37-1.37c-.4-.4-.92-.59-1.43-.59-.52 0-1.04.2-1.43.59L10.3 9.45l-7.72 7.72c-.78.78-.78 2.05 0 2.83L4 21.41c.39.39.9.59 1.41.59.51 0 1.02-.2 1.41-.59l7.78-7.78 2.81-2.81c.8-.78.8-2.07 0-2.86zM5.41 20L4 18.59l7.72-7.72 1.47 1.35L5.41 20z\"/>\n",
              "  </svg>\n",
              "      </button>\n",
              "      \n",
              "  <style>\n",
              "    .colab-df-container {\n",
              "      display:flex;\n",
              "      flex-wrap:wrap;\n",
              "      gap: 12px;\n",
              "    }\n",
              "\n",
              "    .colab-df-convert {\n",
              "      background-color: #E8F0FE;\n",
              "      border: none;\n",
              "      border-radius: 50%;\n",
              "      cursor: pointer;\n",
              "      display: none;\n",
              "      fill: #1967D2;\n",
              "      height: 32px;\n",
              "      padding: 0 0 0 0;\n",
              "      width: 32px;\n",
              "    }\n",
              "\n",
              "    .colab-df-convert:hover {\n",
              "      background-color: #E2EBFA;\n",
              "      box-shadow: 0px 1px 2px rgba(60, 64, 67, 0.3), 0px 1px 3px 1px rgba(60, 64, 67, 0.15);\n",
              "      fill: #174EA6;\n",
              "    }\n",
              "\n",
              "    [theme=dark] .colab-df-convert {\n",
              "      background-color: #3B4455;\n",
              "      fill: #D2E3FC;\n",
              "    }\n",
              "\n",
              "    [theme=dark] .colab-df-convert:hover {\n",
              "      background-color: #434B5C;\n",
              "      box-shadow: 0px 1px 3px 1px rgba(0, 0, 0, 0.15);\n",
              "      filter: drop-shadow(0px 1px 2px rgba(0, 0, 0, 0.3));\n",
              "      fill: #FFFFFF;\n",
              "    }\n",
              "  </style>\n",
              "\n",
              "      <script>\n",
              "        const buttonEl =\n",
              "          document.querySelector('#df-bfc8dca2-c92e-4936-9492-d5cb7f775aff button.colab-df-convert');\n",
              "        buttonEl.style.display =\n",
              "          google.colab.kernel.accessAllowed ? 'block' : 'none';\n",
              "\n",
              "        async function convertToInteractive(key) {\n",
              "          const element = document.querySelector('#df-bfc8dca2-c92e-4936-9492-d5cb7f775aff');\n",
              "          const dataTable =\n",
              "            await google.colab.kernel.invokeFunction('convertToInteractive',\n",
              "                                                     [key], {});\n",
              "          if (!dataTable) return;\n",
              "\n",
              "          const docLinkHtml = 'Like what you see? Visit the ' +\n",
              "            '<a target=\"_blank\" href=https://colab.research.google.com/notebooks/data_table.ipynb>data table notebook</a>'\n",
              "            + ' to learn more about interactive tables.';\n",
              "          element.innerHTML = '';\n",
              "          dataTable['output_type'] = 'display_data';\n",
              "          await google.colab.output.renderOutput(dataTable, element);\n",
              "          const docLink = document.createElement('div');\n",
              "          docLink.innerHTML = docLinkHtml;\n",
              "          element.appendChild(docLink);\n",
              "        }\n",
              "      </script>\n",
              "    </div>\n",
              "  </div>\n",
              "  "
            ]
          },
          "metadata": {},
          "execution_count": 39
        }
      ]
    },
    {
      "cell_type": "code",
      "source": [
        ""
      ],
      "metadata": {
        "id": "UUbOt0JyjKab"
      },
      "execution_count": null,
      "outputs": []
    },
    {
      "cell_type": "code",
      "source": [
        ""
      ],
      "metadata": {
        "id": "X2rfRYdTjKU5"
      },
      "execution_count": null,
      "outputs": []
    },
    {
      "cell_type": "code",
      "source": [
        ""
      ],
      "metadata": {
        "id": "TbUNSHPkjKMY"
      },
      "execution_count": null,
      "outputs": []
    },
    {
      "cell_type": "code",
      "source": [
        ""
      ],
      "metadata": {
        "id": "VSWGxvfQjIbI"
      },
      "execution_count": null,
      "outputs": []
    },
    {
      "cell_type": "code",
      "source": [
        "#install local provider (above)\n",
        "#to create a fake car csv\n",
        "from faker import Faker\n",
        "from faker_vehicle import VehicleProvider\n",
        "\n",
        "fake = Faker()\n",
        "fake.add_provider(VehicleProvider)"
      ],
      "metadata": {
        "id": "xgmlnh2Vbe7j"
      },
      "execution_count": 41,
      "outputs": []
    },
    {
      "cell_type": "code",
      "source": [
        "fake.vehicle_year_make_model_cat()"
      ],
      "metadata": {
        "colab": {
          "base_uri": "https://localhost:8080/",
          "height": 35
        },
        "id": "U4YVIeZ5be4v",
        "outputId": "286b5200-a1fc-4a8d-c675-b34a5f4d49b7"
      },
      "execution_count": 44,
      "outputs": [
        {
          "output_type": "execute_result",
          "data": {
            "text/plain": [
              "'2005 Toyota Matrix (Wagon)'"
            ],
            "application/vnd.google.colaboratory.intrinsic+json": {
              "type": "string"
            }
          },
          "metadata": {},
          "execution_count": 44
        }
      ]
    },
    {
      "cell_type": "code",
      "source": [
        "for i in range(100):\n",
        "    fake.vehicle_year_make_model_cat\n",
        "    print(fake.vehicle_year_make_model_cat())"
      ],
      "metadata": {
        "colab": {
          "base_uri": "https://localhost:8080/"
        },
        "id": "Dn3bdjy4be10",
        "outputId": "2a212d94-46f0-4bf9-aecc-41796f3631ad"
      },
      "execution_count": 45,
      "outputs": [
        {
          "output_type": "stream",
          "name": "stdout",
          "text": [
            "2017 McLaren 570S (Coupe)\n",
            "2006 Ford Ranger Super Cab (Pickup)\n",
            "2016 Toyota Prius c (Hatchback)\n",
            "1997 Audi A4 (Sedan)\n",
            "2006 Subaru Legacy (Wagon, Sedan)\n",
            "2012 Chevrolet Silverado 3500 HD Regular Cab (Pickup)\n",
            "2010 Mitsubishi Endeavor (SUV)\n",
            "2019 Cadillac Escalade (SUV)\n",
            "2009 Volvo S80 (Sedan)\n",
            "2015 Aston Martin DB9 (Coupe, Convertible)\n",
            "2011 Mercedes-Benz CL-Class (Coupe)\n",
            "2004 Lexus RX (SUV)\n",
            "2013 Ferrari 458 Italia (Coupe)\n",
            "2006 Nissan Frontier Crew Cab (Pickup)\n",
            "2001 GMC Sierra 2500 Extended Cab (Pickup)\n",
            "2018 Ram 3500 Crew Cab (Pickup)\n",
            "2016 Ferrari FF (Coupe)\n",
            "2014 Chevrolet Sonic (Sedan, Hatchback)\n",
            "2011 INFINITI QX (SUV)\n",
            "2018 Chevrolet Suburban (SUV)\n",
            "1992 Ford Ranger Regular Cab (Pickup)\n",
            "1995 Volkswagen GTI (Hatchback)\n",
            "2017 Ford F350 Super Duty Regular Cab (Pickup)\n",
            "2019 Jeep Wrangler Unlimited (SUV)\n",
            "2015 Ferrari 458 Speciale (Coupe)\n",
            "2012 Cadillac SRX (SUV)\n",
            "1992 GMC 3500 Regular Cab (Pickup)\n",
            "2015 BMW 4 Series (Coupe, Convertible)\n",
            "2003 MAZDA MPV (Van/Minivan)\n",
            "2017 Toyota RAV4 Hybrid (SUV)\n",
            "2004 Jeep Wrangler (SUV)\n",
            "2016 Toyota Sienna (Van/Minivan)\n",
            "2019 Toyota Camry (Sedan)\n",
            "2019 Ford Flex (SUV)\n",
            "2012 GMC Sierra 3500 HD Extended Cab (Pickup)\n",
            "2013 Toyota Tundra Regular Cab (Pickup)\n",
            "2015 Dodge Charger (Sedan)\n",
            "1998 Lexus LX (SUV)\n",
            "2011 Chevrolet Silverado 2500 HD Regular Cab (Pickup)\n",
            "2018 Nissan Titan King Cab (Pickup)\n",
            "2019 GMC Sierra 1500 Limited Double Cab (Pickup)\n",
            "1994 MAZDA MX-6 (Coupe)\n",
            "2001 GMC Sierra 2500 HD Regular Cab (Pickup)\n",
            "2016 Freightliner Sprinter 2500 Cargo (Van/Minivan)\n",
            "2009 Hyundai Tucson (SUV)\n",
            "2017 Chevrolet Bolt EV (Hatchback)\n",
            "2011 Mercedes-Benz Sprinter 3500 Cargo (Van/Minivan)\n",
            "2017 Chrysler 200 (Sedan)\n",
            "2007 Dodge Sprinter 2500 Cargo (Van/Minivan)\n",
            "2005 Lexus GS (Sedan)\n",
            "2000 BMW Z3 (Convertible, Hatchback)\n",
            "2013 Nissan NV2500 HD Cargo (Van/Minivan)\n",
            "2018 Nissan Titan King Cab (Pickup)\n",
            "1996 Cadillac Seville (Sedan)\n",
            "1999 Subaru Forester (SUV)\n",
            "2018 Aston Martin DB11 (Coupe)\n",
            "2016 Ford C-MAX Energi (Wagon)\n",
            "2003 Lexus RX (SUV)\n",
            "2012 MINI Hardtop (Hatchback)\n",
            "2009 Honda Pilot (SUV)\n",
            "2004 Buick Rainier (SUV)\n",
            "1998 Audi A4 (Sedan, Wagon)\n",
            "1992 Chevrolet Corvette (Hatchback, Convertible)\n",
            "2013 Chevrolet Suburban 1500 (SUV)\n",
            "2012 Toyota Sequoia (SUV)\n",
            "2018 Mercedes-Benz Metris Cargo (Van/Minivan)\n",
            "2014 Nissan Altima (Sedan)\n",
            "2014 Toyota Avalon (Sedan)\n",
            "2005 Chevrolet Uplander Cargo (Van/Minivan)\n",
            "1995 MAZDA Millenia (Sedan)\n",
            "2009 BMW 7 Series (Sedan)\n",
            "2016 Volvo XC90 (SUV)\n",
            "2000 Ford Focus (Sedan, Hatchback, Wagon)\n",
            "2013 Hyundai Genesis Coupe (Coupe)\n",
            "2020 Toyota Yaris Hatchback (Hatchback)\n",
            "1998 Chevrolet Monte Carlo (Coupe)\n",
            "2002 Lexus SC (Convertible)\n",
            "1992 Buick Riviera (Coupe)\n",
            "1996 Ford Thunderbird (Coupe)\n",
            "2007 Nissan 350Z (Coupe, Convertible)\n",
            "2005 Toyota Echo (Sedan)\n",
            "2003 Hyundai XG350 (Sedan)\n",
            "2009 BMW M5 (Sedan)\n",
            "2014 Jaguar F-TYPE (Convertible)\n",
            "1993 MAZDA 323 (Hatchback)\n",
            "2020 Toyota Prius Prime (Hatchback)\n",
            "1999 Ford F250 Super Duty Crew Cab (Pickup)\n",
            "2017 INFINITI QX60 (SUV)\n",
            "2006 Toyota Tundra Double Cab (Pickup)\n",
            "2018 Dodge Challenger (Coupe)\n",
            "1994 Lincoln Continental (Sedan)\n",
            "2008 GMC Sierra 1500 Regular Cab (Pickup)\n",
            "2015 MINI Paceman (Hatchback)\n",
            "2010 Kia Forte (Sedan, Coupe)\n",
            "1998 Mitsubishi Montero (SUV)\n",
            "2005 Mercury Montego (Sedan)\n",
            "2008 Mitsubishi Endeavor (SUV)\n",
            "2005 Toyota Sequoia (SUV)\n",
            "2015 Land Rover Discovery Sport (SUV)\n",
            "2007 MINI Convertible (Convertible)\n"
          ]
        }
      ]
    },
    {
      "cell_type": "code",
      "source": [
        ""
      ],
      "metadata": {
        "id": "KqS0Nwxnbeyt"
      },
      "execution_count": null,
      "outputs": []
    },
    {
      "cell_type": "code",
      "source": [
        ""
      ],
      "metadata": {
        "id": "f1F7GmRsbevy"
      },
      "execution_count": null,
      "outputs": []
    },
    {
      "cell_type": "code",
      "source": [
        ""
      ],
      "metadata": {
        "id": "9oBJ4pPMbesp"
      },
      "execution_count": null,
      "outputs": []
    },
    {
      "cell_type": "code",
      "source": [
        ""
      ],
      "metadata": {
        "id": "vWb0JosQbeph"
      },
      "execution_count": null,
      "outputs": []
    },
    {
      "cell_type": "code",
      "source": [
        ""
      ],
      "metadata": {
        "id": "RpkAcWGwbemd"
      },
      "execution_count": null,
      "outputs": []
    },
    {
      "cell_type": "code",
      "source": [
        ""
      ],
      "metadata": {
        "id": "JjZmxxbJbejZ"
      },
      "execution_count": null,
      "outputs": []
    },
    {
      "cell_type": "code",
      "source": [
        ""
      ],
      "metadata": {
        "id": "pDzB9wLwbegO"
      },
      "execution_count": null,
      "outputs": []
    },
    {
      "cell_type": "code",
      "source": [
        ""
      ],
      "metadata": {
        "id": "Bvsb-eBjbedH"
      },
      "execution_count": null,
      "outputs": []
    },
    {
      "cell_type": "code",
      "source": [
        ""
      ],
      "metadata": {
        "id": "MSBmahWNbeZz"
      },
      "execution_count": null,
      "outputs": []
    },
    {
      "cell_type": "code",
      "source": [
        "#heatmaps, not faker stuff!\n",
        "test_array = np.array([[1, 3, 7], [2, 4, 6], [1, 3, 7], [2, 8, 4], [3, 2, 4], [3, 5, 7], [7, 3, 2]])\n",
        "\n",
        "print(test_array)\n"
      ],
      "metadata": {
        "colab": {
          "base_uri": "https://localhost:8080/"
        },
        "id": "zhTcWykpzPHM",
        "outputId": "58416727-019a-47b6-cb6a-a5d09d15e2ae"
      },
      "execution_count": null,
      "outputs": [
        {
          "output_type": "stream",
          "name": "stdout",
          "text": [
            "[[1 3 7]\n",
            " [2 4 6]\n",
            " [1 3 7]\n",
            " [2 8 4]\n",
            " [3 2 4]\n",
            " [3 5 7]\n",
            " [7 3 2]]\n"
          ]
        }
      ]
    },
    {
      "cell_type": "code",
      "source": [
        "sns.heatmap(test_array, cmap=\"Purples\") #sequential pallet"
      ],
      "metadata": {
        "colab": {
          "base_uri": "https://localhost:8080/",
          "height": 286
        },
        "id": "W8gAHKCSzPD_",
        "outputId": "998dcab6-43fc-4542-dae0-889351eb62ba"
      },
      "execution_count": null,
      "outputs": [
        {
          "output_type": "execute_result",
          "data": {
            "text/plain": [
              "<matplotlib.axes._subplots.AxesSubplot at 0x7fc407e56a90>"
            ]
          },
          "metadata": {},
          "execution_count": 24
        },
        {
          "output_type": "display_data",
          "data": {
            "text/plain": [
              "<Figure size 432x288 with 2 Axes>"
            ],
            "image/png": "[encoded data removed]"
          },
          "metadata": {
            "needs_background": "light"
          }
        }
      ]
    },
    {
      "cell_type": "code",
      "source": [
        "sns.heatmap(test_array, cmap=\"RdBu\", linewidth=0,\n",
        "            linecolor='black') #divergent pallet to highlight smaller and larger values in a larger dataset obv."
      ],
      "metadata": {
        "colab": {
          "base_uri": "https://localhost:8080/",
          "height": 286
        },
        "id": "7zQXY3iVzPAu",
        "outputId": "955f3e2c-9fe5-462f-fa73-d1309e0154dd"
      },
      "execution_count": null,
      "outputs": [
        {
          "output_type": "execute_result",
          "data": {
            "text/plain": [
              "<matplotlib.axes._subplots.AxesSubplot at 0x7fc407b99590>"
            ]
          },
          "metadata": {},
          "execution_count": 30
        },
        {
          "output_type": "display_data",
          "data": {
            "text/plain": [
              "<Figure size 432x288 with 2 Axes>"
            ],
            "image/png": "[encoded data removed]"
          },
          "metadata": {
            "needs_background": "light"
          }
        }
      ]
    },
    {
      "cell_type": "markdown",
      "source": [
        "use the args vmin=-1, and vmax=1 to set the values and colors in the heatmap."
      ],
      "metadata": {
        "id": "tF49So2U0x2r"
      }
    },
    {
      "cell_type": "code",
      "source": [
        ""
      ],
      "metadata": {
        "id": "UIsj1-EQ04pP"
      },
      "execution_count": null,
      "outputs": []
    },
    {
      "cell_type": "code",
      "source": [
        ""
      ],
      "metadata": {
        "id": "82k3DH7Q042d"
      },
      "execution_count": null,
      "outputs": []
    },
    {
      "cell_type": "code",
      "source": [
        ""
      ],
      "metadata": {
        "id": "vsoat8dS04yz"
      },
      "execution_count": null,
      "outputs": []
    },
    {
      "cell_type": "code",
      "source": [
        ""
      ],
      "metadata": {
        "id": "oYostKCf04vh"
      },
      "execution_count": null,
      "outputs": []
    },
    {
      "cell_type": "code",
      "source": [
        ""
      ],
      "metadata": {
        "id": "zOW9tUUh04sY"
      },
      "execution_count": null,
      "outputs": []
    }
  ]
}